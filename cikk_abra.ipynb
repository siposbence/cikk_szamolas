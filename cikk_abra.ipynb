{
 "cells": [
  {
   "cell_type": "code",
   "execution_count": 1,
   "metadata": {},
   "outputs": [
    {
     "name": "stderr",
     "output_type": "stream",
     "text": [
      "C:\\ProgramData\\Anaconda3\\lib\\site-packages\\fuzzywuzzy\\fuzz.py:11: UserWarning: Using slow pure-python SequenceMatcher. Install python-Levenshtein to remove this warning\n",
      "  warnings.warn('Using slow pure-python SequenceMatcher. Install python-Levenshtein to remove this warning')\n"
     ]
    },
    {
     "name": "stdout",
     "output_type": "stream",
     "text": [
      "['PÁCIENSEK', 'ADATOK', 'DH01', 'DH02', 'DH03', 'DH04', 'DH05', 'DH06', 'DH07', 'DH08', 'DH09', 'DH10', 'DH11', 'DH12', 'DH13', 'DH14', 'DH15', 'DH16', 'DH17', 'DH18', 'DH19', 'DH20', 'DH21', 'DH22', 'DH23', 'DH24', 'DH25', 'DH26', 'DH27', 'DH28', 'DH29', 'DH30', 'DH31']\n"
     ]
    },
    {
     "data": {
      "text/plain": [
       "[['DH15', 'DH18'],\n",
       " ['DH13', 'DH22'],\n",
       " ['DH20', 'DH23'],\n",
       " ['DH03', 'DH09'],\n",
       " ['DH02', 'DH11'],\n",
       " ['DH01', 'DH04'],\n",
       " ['DH14', 'DH21'],\n",
       " ['DH05', 'DH12'],\n",
       " ['DH06', 'DH08'],\n",
       " ['DH16', 'DH19'],\n",
       " ['DH07', 'DH10'],\n",
       " ['DH26', 'DH27']]"
      ]
     },
     "execution_count": 1,
     "metadata": {},
     "output_type": "execute_result"
    }
   ],
   "source": [
    "import numpy as np\n",
    "from fuzzywuzzy import process\n",
    "from fuzzywuzzy import fuzz\n",
    "\n",
    "\n",
    "def find_row(df, column, row_name):\n",
    "    rows = df[column].values\n",
    "    #print(process.extract(row_name, rows, scorer=fuzz.token_sort_ratio))\n",
    "    return df.loc[df[column]==process.extract(row_name, rows, scorer=fuzz.token_sort_ratio)[0][0],:]\n",
    "\n",
    "import pandas as pd\n",
    "\n",
    "xl = pd.ExcelFile(\"DH_nagy.xlsx\")\n",
    "\n",
    "sheet_list = xl.sheet_names\n",
    "\n",
    "print(sheet_list)\n",
    "\n",
    "pair_list = list(pd.read_excel(\"DH_nagy.xlsx\", sheet_name = sheet_list[0]).groupby(\"NÉV\")[\"VIZSGÁLATI AZONOSÍTÓ\"].apply(list))\n",
    "pair_list = [x for x in pair_list if len(x)>1]\n",
    "pair_list"
   ]
  },
  {
   "cell_type": "code",
   "execution_count": 2,
   "metadata": {},
   "outputs": [],
   "source": [
    "def df_values_pairs_hosszu(file = \"DH_nagy.xlsx\", nevek = pair_list, val = \"mOsm (mmol/kg)\"):\n",
    "    df_hosszu = pd.read_excel(\"DH_nagy.xlsx\", sheet_name = nevek[0][1]).iloc[:,:14]\n",
    "    df_hosszu = find_row(df_hosszu, column = 'Mintavételi sorszám', row_name = val)\n",
    "    for par in nevek[1:]:\n",
    "        df_hosszu_ = pd.read_excel(\"DH_nagy.xlsx\", sheet_name = par[1]).iloc[:,:14]\n",
    "        df_hosszu_ = find_row(df_hosszu_, column = 'Mintavételi sorszám', row_name = val)\n",
    "        df_hosszu = df_hosszu.append(df_hosszu_.iloc[-1,:]) \n",
    "    df_hosszu.columns = ['Minta', 'Nyugalmi (T. előtt)', \"20'\", \"40'\",\n",
    "       \"60'\", \"80'\", \"100'\", \"120'\", 'VM', \"R5'\", \"R30'\", \"nan1\", 'nan2',\n",
    "       \"nan3\", \"nan4\", \"nan5\"]\n",
    "    df_hosszu[\"Minta\"] = [i[1] for i in pair_list]\n",
    "    return df_hosszu "
   ]
  },
  {
   "cell_type": "code",
   "execution_count": 3,
   "metadata": {},
   "outputs": [],
   "source": [
    "def df_values_pairs_rovid(file = \"DH_nagy.xlsx\", nevek = pair_list, val = \"mOsm (mmol/kg)\"):\n",
    "    df_rov = pd.read_excel(\"DH_nagy.xlsx\", sheet_name = nevek[0][0]).iloc[:,:13]\n",
    "    df_rov = find_row(df_rov, column = 'Mintavételi sorszám', row_name = val)\n",
    "    for par in nevek[1:]:\n",
    "        #print(par)\n",
    "        df_rov_ = pd.read_excel(\"DH_nagy.xlsx\", sheet_name = par[0]).iloc[:,:13]\n",
    "        df_rov_ = find_row(df_rov_, column = 'Mintavételi sorszám', row_name = val)\n",
    "        df_rov = df_rov.append(df_rov_.iloc[-1,:]) \n",
    "    df_rov.columns = ['Minta', 'Nyugalmi (T. előtt)', 'RQ 0,9', 'RQ 1,0', 'Terhelés Után Max (TU)', \"R1'\", \"R2'\", \"R3'\", \"R4'\", \"R5'\", \"R7'\", \"R10'\", \"R30'\"]\n",
    "    df_rov[\"Minta\"] = [i[0] for i in pair_list]\n",
    "    return df_rov\n",
    "#list(pd.read_excel(\"DH_nagy.xlsx\", sheet_name = pair_list[0][0]).iloc[0,:13])\n"
   ]
  },
  {
   "cell_type": "code",
   "execution_count": 4,
   "metadata": {},
   "outputs": [
    {
     "data": {
      "text/html": [
       "<div>\n",
       "<style scoped>\n",
       "    .dataframe tbody tr th:only-of-type {\n",
       "        vertical-align: middle;\n",
       "    }\n",
       "\n",
       "    .dataframe tbody tr th {\n",
       "        vertical-align: top;\n",
       "    }\n",
       "\n",
       "    .dataframe thead th {\n",
       "        text-align: right;\n",
       "    }\n",
       "</style>\n",
       "<table border=\"1\" class=\"dataframe\">\n",
       "  <thead>\n",
       "    <tr style=\"text-align: right;\">\n",
       "      <th></th>\n",
       "      <th>Minta</th>\n",
       "      <th>Nyugalmi (T. előtt)</th>\n",
       "      <th>RQ 0,9</th>\n",
       "      <th>RQ 1,0</th>\n",
       "      <th>Terhelés Után Max (TU)</th>\n",
       "      <th>R1'</th>\n",
       "      <th>R2'</th>\n",
       "      <th>R3'</th>\n",
       "      <th>R4'</th>\n",
       "      <th>R5'</th>\n",
       "      <th>R7'</th>\n",
       "      <th>R10'</th>\n",
       "      <th>R30'</th>\n",
       "    </tr>\n",
       "  </thead>\n",
       "  <tbody>\n",
       "    <tr>\n",
       "      <th>77</th>\n",
       "      <td>DH15</td>\n",
       "      <td>15.1</td>\n",
       "      <td>15.7</td>\n",
       "      <td>15.8</td>\n",
       "      <td>16.8</td>\n",
       "      <td>17.2</td>\n",
       "      <td>17.2</td>\n",
       "      <td>17.3</td>\n",
       "      <td>16.5</td>\n",
       "      <td>17</td>\n",
       "      <td>16.4</td>\n",
       "      <td>14.9</td>\n",
       "      <td>15.3</td>\n",
       "    </tr>\n",
       "    <tr>\n",
       "      <th>77</th>\n",
       "      <td>DH13</td>\n",
       "      <td>15.2</td>\n",
       "      <td>15.3</td>\n",
       "      <td>15.8</td>\n",
       "      <td>17.1</td>\n",
       "      <td>16.6</td>\n",
       "      <td>16.8</td>\n",
       "      <td>16.6</td>\n",
       "      <td>16.3</td>\n",
       "      <td>16.3</td>\n",
       "      <td>16.5</td>\n",
       "      <td>16.1</td>\n",
       "      <td>15.6</td>\n",
       "    </tr>\n",
       "    <tr>\n",
       "      <th>80</th>\n",
       "      <td>DH20</td>\n",
       "      <td>15.8</td>\n",
       "      <td>16.7</td>\n",
       "      <td>16.7</td>\n",
       "      <td>18</td>\n",
       "      <td>17.4</td>\n",
       "      <td>17.6</td>\n",
       "      <td>17.2</td>\n",
       "      <td>17.5</td>\n",
       "      <td>17.3</td>\n",
       "      <td>17.3</td>\n",
       "      <td>17</td>\n",
       "      <td>16.1</td>\n",
       "    </tr>\n",
       "    <tr>\n",
       "      <th>110</th>\n",
       "      <td>DH03</td>\n",
       "      <td>15.4</td>\n",
       "      <td>15.7</td>\n",
       "      <td>16.7</td>\n",
       "      <td>17.9</td>\n",
       "      <td>17.7</td>\n",
       "      <td>17.6</td>\n",
       "      <td>18</td>\n",
       "      <td>NaN</td>\n",
       "      <td>17.1</td>\n",
       "      <td>NaN</td>\n",
       "      <td>NaN</td>\n",
       "      <td>15.8</td>\n",
       "    </tr>\n",
       "    <tr>\n",
       "      <th>76</th>\n",
       "      <td>DH02</td>\n",
       "      <td>15.4</td>\n",
       "      <td>15.2</td>\n",
       "      <td>15.8</td>\n",
       "      <td>13.7</td>\n",
       "      <td>15.8</td>\n",
       "      <td>16.3</td>\n",
       "      <td>15.3</td>\n",
       "      <td>16</td>\n",
       "      <td>14.6</td>\n",
       "      <td>16.1</td>\n",
       "      <td>14.3</td>\n",
       "      <td>15</td>\n",
       "    </tr>\n",
       "    <tr>\n",
       "      <th>76</th>\n",
       "      <td>DH01</td>\n",
       "      <td>14.9</td>\n",
       "      <td>13.1</td>\n",
       "      <td>16.9</td>\n",
       "      <td>15.5</td>\n",
       "      <td>NaN</td>\n",
       "      <td>14.7</td>\n",
       "      <td>NaN</td>\n",
       "      <td>14.7</td>\n",
       "      <td>NaN</td>\n",
       "      <td>16.1</td>\n",
       "      <td>15.2</td>\n",
       "      <td>13.9</td>\n",
       "    </tr>\n",
       "    <tr>\n",
       "      <th>77</th>\n",
       "      <td>DH14</td>\n",
       "      <td>17.1</td>\n",
       "      <td>17.3</td>\n",
       "      <td>17</td>\n",
       "      <td>17.5</td>\n",
       "      <td>18.8</td>\n",
       "      <td>18.6</td>\n",
       "      <td>18.4</td>\n",
       "      <td>18.6</td>\n",
       "      <td>18.3</td>\n",
       "      <td>18.3</td>\n",
       "      <td>17.9</td>\n",
       "      <td>16.7</td>\n",
       "    </tr>\n",
       "    <tr>\n",
       "      <th>77</th>\n",
       "      <td>DH05</td>\n",
       "      <td>16</td>\n",
       "      <td>15.8</td>\n",
       "      <td>16</td>\n",
       "      <td>16.8</td>\n",
       "      <td>17.5</td>\n",
       "      <td>16.2</td>\n",
       "      <td>17</td>\n",
       "      <td>17</td>\n",
       "      <td>16.6</td>\n",
       "      <td>16.1</td>\n",
       "      <td>16.2</td>\n",
       "      <td>16</td>\n",
       "    </tr>\n",
       "    <tr>\n",
       "      <th>77</th>\n",
       "      <td>DH06</td>\n",
       "      <td>16.1</td>\n",
       "      <td>15.7</td>\n",
       "      <td>16.6</td>\n",
       "      <td>17.4</td>\n",
       "      <td>17.7</td>\n",
       "      <td>16.9</td>\n",
       "      <td>17.4</td>\n",
       "      <td>17.4</td>\n",
       "      <td>17.2</td>\n",
       "      <td>17</td>\n",
       "      <td>16.8</td>\n",
       "      <td>16</td>\n",
       "    </tr>\n",
       "    <tr>\n",
       "      <th>77</th>\n",
       "      <td>DH16</td>\n",
       "      <td>16.3</td>\n",
       "      <td>16.5</td>\n",
       "      <td>16.5</td>\n",
       "      <td>17.9</td>\n",
       "      <td>18</td>\n",
       "      <td>18</td>\n",
       "      <td>17.9</td>\n",
       "      <td>17.5</td>\n",
       "      <td>17.6</td>\n",
       "      <td>17.2</td>\n",
       "      <td>16.8</td>\n",
       "      <td>15.6</td>\n",
       "    </tr>\n",
       "    <tr>\n",
       "      <th>77</th>\n",
       "      <td>DH07</td>\n",
       "      <td>16.1</td>\n",
       "      <td>16.5</td>\n",
       "      <td>17.2</td>\n",
       "      <td>NaN</td>\n",
       "      <td>NaN</td>\n",
       "      <td>NaN</td>\n",
       "      <td>17.7</td>\n",
       "      <td>17.6</td>\n",
       "      <td>17.3</td>\n",
       "      <td>17.6</td>\n",
       "      <td>17</td>\n",
       "      <td>16.5</td>\n",
       "    </tr>\n",
       "    <tr>\n",
       "      <th>80</th>\n",
       "      <td>DH26</td>\n",
       "      <td>15.1</td>\n",
       "      <td>15.2</td>\n",
       "      <td>16.7</td>\n",
       "      <td>17.4</td>\n",
       "      <td>17.5</td>\n",
       "      <td>17.7</td>\n",
       "      <td>17.2</td>\n",
       "      <td>17.2</td>\n",
       "      <td>16.9</td>\n",
       "      <td>16.8</td>\n",
       "      <td>16.4</td>\n",
       "      <td>15</td>\n",
       "    </tr>\n",
       "  </tbody>\n",
       "</table>\n",
       "</div>"
      ],
      "text/plain": [
       "    Minta Nyugalmi (T. előtt) RQ 0,9 RQ 1,0 Terhelés Után Max (TU)   R1'  \\\n",
       "77   DH15                15.1   15.7   15.8                   16.8  17.2   \n",
       "77   DH13                15.2   15.3   15.8                   17.1  16.6   \n",
       "80   DH20                15.8   16.7   16.7                     18  17.4   \n",
       "110  DH03                15.4   15.7   16.7                   17.9  17.7   \n",
       "76   DH02                15.4   15.2   15.8                   13.7  15.8   \n",
       "76   DH01                14.9   13.1   16.9                   15.5   NaN   \n",
       "77   DH14                17.1   17.3     17                   17.5  18.8   \n",
       "77   DH05                  16   15.8     16                   16.8  17.5   \n",
       "77   DH06                16.1   15.7   16.6                   17.4  17.7   \n",
       "77   DH16                16.3   16.5   16.5                   17.9    18   \n",
       "77   DH07                16.1   16.5   17.2                    NaN   NaN   \n",
       "80   DH26                15.1   15.2   16.7                   17.4  17.5   \n",
       "\n",
       "      R2'   R3'   R4'   R5'   R7'  R10'  R30'  \n",
       "77   17.2  17.3  16.5    17  16.4  14.9  15.3  \n",
       "77   16.8  16.6  16.3  16.3  16.5  16.1  15.6  \n",
       "80   17.6  17.2  17.5  17.3  17.3    17  16.1  \n",
       "110  17.6    18   NaN  17.1   NaN   NaN  15.8  \n",
       "76   16.3  15.3    16  14.6  16.1  14.3    15  \n",
       "76   14.7   NaN  14.7   NaN  16.1  15.2  13.9  \n",
       "77   18.6  18.4  18.6  18.3  18.3  17.9  16.7  \n",
       "77   16.2    17    17  16.6  16.1  16.2    16  \n",
       "77   16.9  17.4  17.4  17.2    17  16.8    16  \n",
       "77     18  17.9  17.5  17.6  17.2  16.8  15.6  \n",
       "77    NaN  17.7  17.6  17.3  17.6    17  16.5  \n",
       "80   17.7  17.2  17.2  16.9  16.8  16.4    15  "
      ]
     },
     "execution_count": 4,
     "metadata": {},
     "output_type": "execute_result"
    }
   ],
   "source": [
    "df_hgb = df_values_pairs_rovid(file = \"DH_nagy.xlsx\", nevek = pair_list, val = \"tHb (g/dL)\")\n",
    "df_hct = df_values_pairs_rovid(file = \"DH_nagy.xlsx\", nevek = pair_list, val = \"Hct (%)\")\n",
    "\n",
    "df_hgb"
   ]
  },
  {
   "cell_type": "code",
   "execution_count": 5,
   "metadata": {},
   "outputs": [
    {
     "data": {
      "text/html": [
       "<div>\n",
       "<style scoped>\n",
       "    .dataframe tbody tr th:only-of-type {\n",
       "        vertical-align: middle;\n",
       "    }\n",
       "\n",
       "    .dataframe tbody tr th {\n",
       "        vertical-align: top;\n",
       "    }\n",
       "\n",
       "    .dataframe thead th {\n",
       "        text-align: right;\n",
       "    }\n",
       "</style>\n",
       "<table border=\"1\" class=\"dataframe\">\n",
       "  <thead>\n",
       "    <tr style=\"text-align: right;\">\n",
       "      <th></th>\n",
       "      <th>Minta</th>\n",
       "      <th>Nyugalmi (T. előtt)</th>\n",
       "      <th>RQ 0,9</th>\n",
       "      <th>RQ 1,0</th>\n",
       "      <th>Terhelés Után Max (TU)</th>\n",
       "      <th>R1'</th>\n",
       "      <th>R2'</th>\n",
       "      <th>R3'</th>\n",
       "      <th>R4'</th>\n",
       "      <th>R5'</th>\n",
       "      <th>R7'</th>\n",
       "      <th>R10'</th>\n",
       "      <th>R30'</th>\n",
       "    </tr>\n",
       "  </thead>\n",
       "  <tbody>\n",
       "    <tr>\n",
       "      <th>97</th>\n",
       "      <td>DH15</td>\n",
       "      <td>46.3</td>\n",
       "      <td>48</td>\n",
       "      <td>48.6</td>\n",
       "      <td>51.5</td>\n",
       "      <td>52.8</td>\n",
       "      <td>52.6</td>\n",
       "      <td>53</td>\n",
       "      <td>50.5</td>\n",
       "      <td>52</td>\n",
       "      <td>50.2</td>\n",
       "      <td>45.7</td>\n",
       "      <td>46.9</td>\n",
       "    </tr>\n",
       "    <tr>\n",
       "      <th>97</th>\n",
       "      <td>DH13</td>\n",
       "      <td>46.7</td>\n",
       "      <td>46.8</td>\n",
       "      <td>48.5</td>\n",
       "      <td>52.5</td>\n",
       "      <td>51</td>\n",
       "      <td>51.5</td>\n",
       "      <td>50.9</td>\n",
       "      <td>50.1</td>\n",
       "      <td>49.8</td>\n",
       "      <td>50.6</td>\n",
       "      <td>49.4</td>\n",
       "      <td>47.9</td>\n",
       "    </tr>\n",
       "    <tr>\n",
       "      <th>100</th>\n",
       "      <td>DH20</td>\n",
       "      <td>48.5</td>\n",
       "      <td>51.3</td>\n",
       "      <td>51.2</td>\n",
       "      <td>55.2</td>\n",
       "      <td>53.4</td>\n",
       "      <td>53.9</td>\n",
       "      <td>52.6</td>\n",
       "      <td>53.7</td>\n",
       "      <td>53.1</td>\n",
       "      <td>53.1</td>\n",
       "      <td>52.1</td>\n",
       "      <td>49.2</td>\n",
       "    </tr>\n",
       "    <tr>\n",
       "      <th>130</th>\n",
       "      <td>DH03</td>\n",
       "      <td>47.3</td>\n",
       "      <td>48.2</td>\n",
       "      <td>51.2</td>\n",
       "      <td>54.8</td>\n",
       "      <td>54.2</td>\n",
       "      <td>53.8</td>\n",
       "      <td>55.1</td>\n",
       "      <td>NaN</td>\n",
       "      <td>52.4</td>\n",
       "      <td>NaN</td>\n",
       "      <td>NaN</td>\n",
       "      <td>48.4</td>\n",
       "    </tr>\n",
       "    <tr>\n",
       "      <th>96</th>\n",
       "      <td>DH02</td>\n",
       "      <td>47.1</td>\n",
       "      <td>46.5</td>\n",
       "      <td>48.3</td>\n",
       "      <td>42.1</td>\n",
       "      <td>48.5</td>\n",
       "      <td>50</td>\n",
       "      <td>47</td>\n",
       "      <td>49</td>\n",
       "      <td>44.8</td>\n",
       "      <td>49.5</td>\n",
       "      <td>43.8</td>\n",
       "      <td>46.1</td>\n",
       "    </tr>\n",
       "    <tr>\n",
       "      <th>96</th>\n",
       "      <td>DH01</td>\n",
       "      <td>45.6</td>\n",
       "      <td>40.2</td>\n",
       "      <td>51.8</td>\n",
       "      <td>47.6</td>\n",
       "      <td>NaN</td>\n",
       "      <td>44.9</td>\n",
       "      <td>NaN</td>\n",
       "      <td>44.9</td>\n",
       "      <td>NaN</td>\n",
       "      <td>49.4</td>\n",
       "      <td>46.7</td>\n",
       "      <td>42.7</td>\n",
       "    </tr>\n",
       "    <tr>\n",
       "      <th>97</th>\n",
       "      <td>DH14</td>\n",
       "      <td>52.4</td>\n",
       "      <td>53</td>\n",
       "      <td>52.1</td>\n",
       "      <td>53.7</td>\n",
       "      <td>57.7</td>\n",
       "      <td>57</td>\n",
       "      <td>56.3</td>\n",
       "      <td>57</td>\n",
       "      <td>56</td>\n",
       "      <td>56.1</td>\n",
       "      <td>54.8</td>\n",
       "      <td>51.2</td>\n",
       "    </tr>\n",
       "    <tr>\n",
       "      <th>97</th>\n",
       "      <td>DH05</td>\n",
       "      <td>49.1</td>\n",
       "      <td>48.3</td>\n",
       "      <td>49.1</td>\n",
       "      <td>51.6</td>\n",
       "      <td>53.7</td>\n",
       "      <td>49.8</td>\n",
       "      <td>52.1</td>\n",
       "      <td>52.1</td>\n",
       "      <td>51</td>\n",
       "      <td>49.4</td>\n",
       "      <td>49.5</td>\n",
       "      <td>49.2</td>\n",
       "    </tr>\n",
       "    <tr>\n",
       "      <th>97</th>\n",
       "      <td>DH06</td>\n",
       "      <td>49.3</td>\n",
       "      <td>48.2</td>\n",
       "      <td>50.8</td>\n",
       "      <td>53.5</td>\n",
       "      <td>54.2</td>\n",
       "      <td>51.9</td>\n",
       "      <td>53.2</td>\n",
       "      <td>53.4</td>\n",
       "      <td>52.7</td>\n",
       "      <td>52.1</td>\n",
       "      <td>51.4</td>\n",
       "      <td>49</td>\n",
       "    </tr>\n",
       "    <tr>\n",
       "      <th>97</th>\n",
       "      <td>DH16</td>\n",
       "      <td>50.1</td>\n",
       "      <td>50.7</td>\n",
       "      <td>50.6</td>\n",
       "      <td>54.8</td>\n",
       "      <td>55.1</td>\n",
       "      <td>55.1</td>\n",
       "      <td>54.8</td>\n",
       "      <td>53.6</td>\n",
       "      <td>53.9</td>\n",
       "      <td>52.8</td>\n",
       "      <td>51.5</td>\n",
       "      <td>47.9</td>\n",
       "    </tr>\n",
       "    <tr>\n",
       "      <th>97</th>\n",
       "      <td>DH07</td>\n",
       "      <td>49.4</td>\n",
       "      <td>50.5</td>\n",
       "      <td>52.6</td>\n",
       "      <td>NaN</td>\n",
       "      <td>NaN</td>\n",
       "      <td>NaN</td>\n",
       "      <td>54.3</td>\n",
       "      <td>54</td>\n",
       "      <td>53</td>\n",
       "      <td>53.9</td>\n",
       "      <td>52.2</td>\n",
       "      <td>50.7</td>\n",
       "    </tr>\n",
       "    <tr>\n",
       "      <th>100</th>\n",
       "      <td>DH26</td>\n",
       "      <td>46.2</td>\n",
       "      <td>46.7</td>\n",
       "      <td>51.1</td>\n",
       "      <td>53.4</td>\n",
       "      <td>53.6</td>\n",
       "      <td>54.2</td>\n",
       "      <td>52.8</td>\n",
       "      <td>52.7</td>\n",
       "      <td>51.9</td>\n",
       "      <td>51.4</td>\n",
       "      <td>50.4</td>\n",
       "      <td>46.1</td>\n",
       "    </tr>\n",
       "  </tbody>\n",
       "</table>\n",
       "</div>"
      ],
      "text/plain": [
       "    Minta Nyugalmi (T. előtt) RQ 0,9 RQ 1,0 Terhelés Után Max (TU)   R1'  \\\n",
       "97   DH15                46.3     48   48.6                   51.5  52.8   \n",
       "97   DH13                46.7   46.8   48.5                   52.5    51   \n",
       "100  DH20                48.5   51.3   51.2                   55.2  53.4   \n",
       "130  DH03                47.3   48.2   51.2                   54.8  54.2   \n",
       "96   DH02                47.1   46.5   48.3                   42.1  48.5   \n",
       "96   DH01                45.6   40.2   51.8                   47.6   NaN   \n",
       "97   DH14                52.4     53   52.1                   53.7  57.7   \n",
       "97   DH05                49.1   48.3   49.1                   51.6  53.7   \n",
       "97   DH06                49.3   48.2   50.8                   53.5  54.2   \n",
       "97   DH16                50.1   50.7   50.6                   54.8  55.1   \n",
       "97   DH07                49.4   50.5   52.6                    NaN   NaN   \n",
       "100  DH26                46.2   46.7   51.1                   53.4  53.6   \n",
       "\n",
       "      R2'   R3'   R4'   R5'   R7'  R10'  R30'  \n",
       "97   52.6    53  50.5    52  50.2  45.7  46.9  \n",
       "97   51.5  50.9  50.1  49.8  50.6  49.4  47.9  \n",
       "100  53.9  52.6  53.7  53.1  53.1  52.1  49.2  \n",
       "130  53.8  55.1   NaN  52.4   NaN   NaN  48.4  \n",
       "96     50    47    49  44.8  49.5  43.8  46.1  \n",
       "96   44.9   NaN  44.9   NaN  49.4  46.7  42.7  \n",
       "97     57  56.3    57    56  56.1  54.8  51.2  \n",
       "97   49.8  52.1  52.1    51  49.4  49.5  49.2  \n",
       "97   51.9  53.2  53.4  52.7  52.1  51.4    49  \n",
       "97   55.1  54.8  53.6  53.9  52.8  51.5  47.9  \n",
       "97    NaN  54.3    54    53  53.9  52.2  50.7  \n",
       "100  54.2  52.8  52.7  51.9  51.4  50.4  46.1  "
      ]
     },
     "execution_count": 5,
     "metadata": {},
     "output_type": "execute_result"
    }
   ],
   "source": [
    "df_hct"
   ]
  },
  {
   "cell_type": "code",
   "execution_count": 6,
   "metadata": {},
   "outputs": [
    {
     "data": {
      "application/vnd.plotly.v1+json": {
       "config": {
        "plotlyServerURL": "https://plot.ly"
       },
       "data": [
        {
         "alignmentgroup": "True",
         "hovertemplate": "variable=%{x}<br>value=%{y}<extra></extra>",
         "legendgroup": "",
         "marker": {
          "color": "#636efa"
         },
         "name": "",
         "notched": false,
         "offsetgroup": "",
         "orientation": "v",
         "showlegend": false,
         "type": "box",
         "x": [
          "Rest",
          "Rest",
          "Rest",
          "Rest",
          "Rest",
          "Rest",
          "Rest",
          "Rest",
          "Rest",
          "Rest",
          "Rest",
          "Rest",
          "RER 0,9",
          "RER 0,9",
          "RER 0,9",
          "RER 0,9",
          "RER 0,9",
          "RER 0,9",
          "RER 0,9",
          "RER 0,9",
          "RER 0,9",
          "RER 0,9",
          "RER 0,9",
          "RER 0,9",
          "RER 1,0",
          "RER 1,0",
          "RER 1,0",
          "RER 1,0",
          "RER 1,0",
          "RER 1,0",
          "RER 1,0",
          "RER 1,0",
          "RER 1,0",
          "RER 1,0",
          "RER 1,0",
          "RER 1,0",
          "Max",
          "Max",
          "Max",
          "Max",
          "Max",
          "Max",
          "Max",
          "Max",
          "Max",
          "Max",
          "Max",
          "Max",
          "R1'",
          "R1'",
          "R1'",
          "R1'",
          "R1'",
          "R1'",
          "R1'",
          "R1'",
          "R1'",
          "R1'",
          "R1'",
          "R1'",
          "R2'",
          "R2'",
          "R2'",
          "R2'",
          "R2'",
          "R2'",
          "R2'",
          "R2'",
          "R2'",
          "R2'",
          "R2'",
          "R2'",
          "R3'",
          "R3'",
          "R3'",
          "R3'",
          "R3'",
          "R3'",
          "R3'",
          "R3'",
          "R3'",
          "R3'",
          "R3'",
          "R3'",
          "R4'",
          "R4'",
          "R4'",
          "R4'",
          "R4'",
          "R4'",
          "R4'",
          "R4'",
          "R4'",
          "R4'",
          "R4'",
          "R4'",
          "R5'",
          "R5'",
          "R5'",
          "R5'",
          "R5'",
          "R5'",
          "R5'",
          "R5'",
          "R5'",
          "R5'",
          "R5'",
          "R5'",
          "R7'",
          "R7'",
          "R7'",
          "R7'",
          "R7'",
          "R7'",
          "R7'",
          "R7'",
          "R7'",
          "R7'",
          "R7'",
          "R7'",
          "R10'",
          "R10'",
          "R10'",
          "R10'",
          "R10'",
          "R10'",
          "R10'",
          "R10'",
          "R10'",
          "R10'",
          "R10'",
          "R10'",
          "R30'",
          "R30'",
          "R30'",
          "R30'",
          "R30'",
          "R30'",
          "R30'",
          "R30'",
          "R30'",
          "R30'",
          "R30'",
          "R30'"
         ],
         "x0": " ",
         "xaxis": "x",
         "y": [
          46.3,
          46.7,
          48.5,
          47.3,
          47.1,
          45.6,
          52.4,
          49.1,
          49.3,
          50.1,
          49.4,
          46.2,
          48,
          46.8,
          51.3,
          48.2,
          46.5,
          40.2,
          53,
          48.3,
          48.2,
          50.7,
          50.5,
          46.7,
          48.6,
          48.5,
          51.2,
          51.2,
          48.3,
          51.8,
          52.1,
          49.1,
          50.8,
          50.6,
          52.6,
          51.1,
          51.5,
          52.5,
          55.2,
          54.8,
          42.1,
          47.6,
          53.7,
          51.6,
          53.5,
          54.8,
          null,
          53.4,
          52.8,
          51,
          53.4,
          54.2,
          48.5,
          null,
          57.7,
          53.7,
          54.2,
          55.1,
          null,
          53.6,
          52.6,
          51.5,
          53.9,
          53.8,
          50,
          44.9,
          57,
          49.8,
          51.9,
          55.1,
          null,
          54.2,
          53,
          50.9,
          52.6,
          55.1,
          47,
          null,
          56.3,
          52.1,
          53.2,
          54.8,
          54.3,
          52.8,
          50.5,
          50.1,
          53.7,
          null,
          49,
          44.9,
          57,
          52.1,
          53.4,
          53.6,
          54,
          52.7,
          52,
          49.8,
          53.1,
          52.4,
          44.8,
          null,
          56,
          51,
          52.7,
          53.9,
          53,
          51.9,
          50.2,
          50.6,
          53.1,
          null,
          49.5,
          49.4,
          56.1,
          49.4,
          52.1,
          52.8,
          53.9,
          51.4,
          45.7,
          49.4,
          52.1,
          null,
          43.8,
          46.7,
          54.8,
          49.5,
          51.4,
          51.5,
          52.2,
          50.4,
          46.9,
          47.9,
          49.2,
          48.4,
          46.1,
          42.7,
          51.2,
          49.2,
          49,
          47.9,
          50.7,
          46.1
         ],
         "y0": " ",
         "yaxis": "y"
        }
       ],
       "layout": {
        "boxmode": "group",
        "legend": {
         "tracegroupgap": 0
        },
        "margin": {
         "t": 60
        },
        "template": {
         "data": {
          "bar": [
           {
            "error_x": {
             "color": "#2a3f5f"
            },
            "error_y": {
             "color": "#2a3f5f"
            },
            "marker": {
             "line": {
              "color": "#E5ECF6",
              "width": 0.5
             },
             "pattern": {
              "fillmode": "overlay",
              "size": 10,
              "solidity": 0.2
             }
            },
            "type": "bar"
           }
          ],
          "barpolar": [
           {
            "marker": {
             "line": {
              "color": "#E5ECF6",
              "width": 0.5
             },
             "pattern": {
              "fillmode": "overlay",
              "size": 10,
              "solidity": 0.2
             }
            },
            "type": "barpolar"
           }
          ],
          "carpet": [
           {
            "aaxis": {
             "endlinecolor": "#2a3f5f",
             "gridcolor": "white",
             "linecolor": "white",
             "minorgridcolor": "white",
             "startlinecolor": "#2a3f5f"
            },
            "baxis": {
             "endlinecolor": "#2a3f5f",
             "gridcolor": "white",
             "linecolor": "white",
             "minorgridcolor": "white",
             "startlinecolor": "#2a3f5f"
            },
            "type": "carpet"
           }
          ],
          "choropleth": [
           {
            "colorbar": {
             "outlinewidth": 0,
             "ticks": ""
            },
            "type": "choropleth"
           }
          ],
          "contour": [
           {
            "colorbar": {
             "outlinewidth": 0,
             "ticks": ""
            },
            "colorscale": [
             [
              0,
              "#0d0887"
             ],
             [
              0.1111111111111111,
              "#46039f"
             ],
             [
              0.2222222222222222,
              "#7201a8"
             ],
             [
              0.3333333333333333,
              "#9c179e"
             ],
             [
              0.4444444444444444,
              "#bd3786"
             ],
             [
              0.5555555555555556,
              "#d8576b"
             ],
             [
              0.6666666666666666,
              "#ed7953"
             ],
             [
              0.7777777777777778,
              "#fb9f3a"
             ],
             [
              0.8888888888888888,
              "#fdca26"
             ],
             [
              1,
              "#f0f921"
             ]
            ],
            "type": "contour"
           }
          ],
          "contourcarpet": [
           {
            "colorbar": {
             "outlinewidth": 0,
             "ticks": ""
            },
            "type": "contourcarpet"
           }
          ],
          "heatmap": [
           {
            "colorbar": {
             "outlinewidth": 0,
             "ticks": ""
            },
            "colorscale": [
             [
              0,
              "#0d0887"
             ],
             [
              0.1111111111111111,
              "#46039f"
             ],
             [
              0.2222222222222222,
              "#7201a8"
             ],
             [
              0.3333333333333333,
              "#9c179e"
             ],
             [
              0.4444444444444444,
              "#bd3786"
             ],
             [
              0.5555555555555556,
              "#d8576b"
             ],
             [
              0.6666666666666666,
              "#ed7953"
             ],
             [
              0.7777777777777778,
              "#fb9f3a"
             ],
             [
              0.8888888888888888,
              "#fdca26"
             ],
             [
              1,
              "#f0f921"
             ]
            ],
            "type": "heatmap"
           }
          ],
          "heatmapgl": [
           {
            "colorbar": {
             "outlinewidth": 0,
             "ticks": ""
            },
            "colorscale": [
             [
              0,
              "#0d0887"
             ],
             [
              0.1111111111111111,
              "#46039f"
             ],
             [
              0.2222222222222222,
              "#7201a8"
             ],
             [
              0.3333333333333333,
              "#9c179e"
             ],
             [
              0.4444444444444444,
              "#bd3786"
             ],
             [
              0.5555555555555556,
              "#d8576b"
             ],
             [
              0.6666666666666666,
              "#ed7953"
             ],
             [
              0.7777777777777778,
              "#fb9f3a"
             ],
             [
              0.8888888888888888,
              "#fdca26"
             ],
             [
              1,
              "#f0f921"
             ]
            ],
            "type": "heatmapgl"
           }
          ],
          "histogram": [
           {
            "marker": {
             "pattern": {
              "fillmode": "overlay",
              "size": 10,
              "solidity": 0.2
             }
            },
            "type": "histogram"
           }
          ],
          "histogram2d": [
           {
            "colorbar": {
             "outlinewidth": 0,
             "ticks": ""
            },
            "colorscale": [
             [
              0,
              "#0d0887"
             ],
             [
              0.1111111111111111,
              "#46039f"
             ],
             [
              0.2222222222222222,
              "#7201a8"
             ],
             [
              0.3333333333333333,
              "#9c179e"
             ],
             [
              0.4444444444444444,
              "#bd3786"
             ],
             [
              0.5555555555555556,
              "#d8576b"
             ],
             [
              0.6666666666666666,
              "#ed7953"
             ],
             [
              0.7777777777777778,
              "#fb9f3a"
             ],
             [
              0.8888888888888888,
              "#fdca26"
             ],
             [
              1,
              "#f0f921"
             ]
            ],
            "type": "histogram2d"
           }
          ],
          "histogram2dcontour": [
           {
            "colorbar": {
             "outlinewidth": 0,
             "ticks": ""
            },
            "colorscale": [
             [
              0,
              "#0d0887"
             ],
             [
              0.1111111111111111,
              "#46039f"
             ],
             [
              0.2222222222222222,
              "#7201a8"
             ],
             [
              0.3333333333333333,
              "#9c179e"
             ],
             [
              0.4444444444444444,
              "#bd3786"
             ],
             [
              0.5555555555555556,
              "#d8576b"
             ],
             [
              0.6666666666666666,
              "#ed7953"
             ],
             [
              0.7777777777777778,
              "#fb9f3a"
             ],
             [
              0.8888888888888888,
              "#fdca26"
             ],
             [
              1,
              "#f0f921"
             ]
            ],
            "type": "histogram2dcontour"
           }
          ],
          "mesh3d": [
           {
            "colorbar": {
             "outlinewidth": 0,
             "ticks": ""
            },
            "type": "mesh3d"
           }
          ],
          "parcoords": [
           {
            "line": {
             "colorbar": {
              "outlinewidth": 0,
              "ticks": ""
             }
            },
            "type": "parcoords"
           }
          ],
          "pie": [
           {
            "automargin": true,
            "type": "pie"
           }
          ],
          "scatter": [
           {
            "marker": {
             "colorbar": {
              "outlinewidth": 0,
              "ticks": ""
             }
            },
            "type": "scatter"
           }
          ],
          "scatter3d": [
           {
            "line": {
             "colorbar": {
              "outlinewidth": 0,
              "ticks": ""
             }
            },
            "marker": {
             "colorbar": {
              "outlinewidth": 0,
              "ticks": ""
             }
            },
            "type": "scatter3d"
           }
          ],
          "scattercarpet": [
           {
            "marker": {
             "colorbar": {
              "outlinewidth": 0,
              "ticks": ""
             }
            },
            "type": "scattercarpet"
           }
          ],
          "scattergeo": [
           {
            "marker": {
             "colorbar": {
              "outlinewidth": 0,
              "ticks": ""
             }
            },
            "type": "scattergeo"
           }
          ],
          "scattergl": [
           {
            "marker": {
             "colorbar": {
              "outlinewidth": 0,
              "ticks": ""
             }
            },
            "type": "scattergl"
           }
          ],
          "scattermapbox": [
           {
            "marker": {
             "colorbar": {
              "outlinewidth": 0,
              "ticks": ""
             }
            },
            "type": "scattermapbox"
           }
          ],
          "scatterpolar": [
           {
            "marker": {
             "colorbar": {
              "outlinewidth": 0,
              "ticks": ""
             }
            },
            "type": "scatterpolar"
           }
          ],
          "scatterpolargl": [
           {
            "marker": {
             "colorbar": {
              "outlinewidth": 0,
              "ticks": ""
             }
            },
            "type": "scatterpolargl"
           }
          ],
          "scatterternary": [
           {
            "marker": {
             "colorbar": {
              "outlinewidth": 0,
              "ticks": ""
             }
            },
            "type": "scatterternary"
           }
          ],
          "surface": [
           {
            "colorbar": {
             "outlinewidth": 0,
             "ticks": ""
            },
            "colorscale": [
             [
              0,
              "#0d0887"
             ],
             [
              0.1111111111111111,
              "#46039f"
             ],
             [
              0.2222222222222222,
              "#7201a8"
             ],
             [
              0.3333333333333333,
              "#9c179e"
             ],
             [
              0.4444444444444444,
              "#bd3786"
             ],
             [
              0.5555555555555556,
              "#d8576b"
             ],
             [
              0.6666666666666666,
              "#ed7953"
             ],
             [
              0.7777777777777778,
              "#fb9f3a"
             ],
             [
              0.8888888888888888,
              "#fdca26"
             ],
             [
              1,
              "#f0f921"
             ]
            ],
            "type": "surface"
           }
          ],
          "table": [
           {
            "cells": {
             "fill": {
              "color": "#EBF0F8"
             },
             "line": {
              "color": "white"
             }
            },
            "header": {
             "fill": {
              "color": "#C8D4E3"
             },
             "line": {
              "color": "white"
             }
            },
            "type": "table"
           }
          ]
         },
         "layout": {
          "annotationdefaults": {
           "arrowcolor": "#2a3f5f",
           "arrowhead": 0,
           "arrowwidth": 1
          },
          "autotypenumbers": "strict",
          "coloraxis": {
           "colorbar": {
            "outlinewidth": 0,
            "ticks": ""
           }
          },
          "colorscale": {
           "diverging": [
            [
             0,
             "#8e0152"
            ],
            [
             0.1,
             "#c51b7d"
            ],
            [
             0.2,
             "#de77ae"
            ],
            [
             0.3,
             "#f1b6da"
            ],
            [
             0.4,
             "#fde0ef"
            ],
            [
             0.5,
             "#f7f7f7"
            ],
            [
             0.6,
             "#e6f5d0"
            ],
            [
             0.7,
             "#b8e186"
            ],
            [
             0.8,
             "#7fbc41"
            ],
            [
             0.9,
             "#4d9221"
            ],
            [
             1,
             "#276419"
            ]
           ],
           "sequential": [
            [
             0,
             "#0d0887"
            ],
            [
             0.1111111111111111,
             "#46039f"
            ],
            [
             0.2222222222222222,
             "#7201a8"
            ],
            [
             0.3333333333333333,
             "#9c179e"
            ],
            [
             0.4444444444444444,
             "#bd3786"
            ],
            [
             0.5555555555555556,
             "#d8576b"
            ],
            [
             0.6666666666666666,
             "#ed7953"
            ],
            [
             0.7777777777777778,
             "#fb9f3a"
            ],
            [
             0.8888888888888888,
             "#fdca26"
            ],
            [
             1,
             "#f0f921"
            ]
           ],
           "sequentialminus": [
            [
             0,
             "#0d0887"
            ],
            [
             0.1111111111111111,
             "#46039f"
            ],
            [
             0.2222222222222222,
             "#7201a8"
            ],
            [
             0.3333333333333333,
             "#9c179e"
            ],
            [
             0.4444444444444444,
             "#bd3786"
            ],
            [
             0.5555555555555556,
             "#d8576b"
            ],
            [
             0.6666666666666666,
             "#ed7953"
            ],
            [
             0.7777777777777778,
             "#fb9f3a"
            ],
            [
             0.8888888888888888,
             "#fdca26"
            ],
            [
             1,
             "#f0f921"
            ]
           ]
          },
          "colorway": [
           "#636efa",
           "#EF553B",
           "#00cc96",
           "#ab63fa",
           "#FFA15A",
           "#19d3f3",
           "#FF6692",
           "#B6E880",
           "#FF97FF",
           "#FECB52"
          ],
          "font": {
           "color": "#2a3f5f"
          },
          "geo": {
           "bgcolor": "white",
           "lakecolor": "white",
           "landcolor": "#E5ECF6",
           "showlakes": true,
           "showland": true,
           "subunitcolor": "white"
          },
          "hoverlabel": {
           "align": "left"
          },
          "hovermode": "closest",
          "mapbox": {
           "style": "light"
          },
          "paper_bgcolor": "white",
          "plot_bgcolor": "#E5ECF6",
          "polar": {
           "angularaxis": {
            "gridcolor": "white",
            "linecolor": "white",
            "ticks": ""
           },
           "bgcolor": "#E5ECF6",
           "radialaxis": {
            "gridcolor": "white",
            "linecolor": "white",
            "ticks": ""
           }
          },
          "scene": {
           "xaxis": {
            "backgroundcolor": "#E5ECF6",
            "gridcolor": "white",
            "gridwidth": 2,
            "linecolor": "white",
            "showbackground": true,
            "ticks": "",
            "zerolinecolor": "white"
           },
           "yaxis": {
            "backgroundcolor": "#E5ECF6",
            "gridcolor": "white",
            "gridwidth": 2,
            "linecolor": "white",
            "showbackground": true,
            "ticks": "",
            "zerolinecolor": "white"
           },
           "zaxis": {
            "backgroundcolor": "#E5ECF6",
            "gridcolor": "white",
            "gridwidth": 2,
            "linecolor": "white",
            "showbackground": true,
            "ticks": "",
            "zerolinecolor": "white"
           }
          },
          "shapedefaults": {
           "line": {
            "color": "#2a3f5f"
           }
          },
          "ternary": {
           "aaxis": {
            "gridcolor": "white",
            "linecolor": "white",
            "ticks": ""
           },
           "baxis": {
            "gridcolor": "white",
            "linecolor": "white",
            "ticks": ""
           },
           "bgcolor": "#E5ECF6",
           "caxis": {
            "gridcolor": "white",
            "linecolor": "white",
            "ticks": ""
           }
          },
          "title": {
           "x": 0.05
          },
          "xaxis": {
           "automargin": true,
           "gridcolor": "white",
           "linecolor": "white",
           "ticks": "",
           "title": {
            "standoff": 15
           },
           "zerolinecolor": "white",
           "zerolinewidth": 2
          },
          "yaxis": {
           "automargin": true,
           "gridcolor": "white",
           "linecolor": "white",
           "ticks": "",
           "title": {
            "standoff": 15
           },
           "zerolinecolor": "white",
           "zerolinewidth": 2
          }
         }
        },
        "xaxis": {
         "anchor": "y",
         "domain": [
          0,
          1
         ],
         "title": {
          "text": "variable"
         }
        },
        "yaxis": {
         "anchor": "x",
         "domain": [
          0,
          1
         ],
         "title": {
          "text": "value"
         }
        }
       }
      }
     },
     "metadata": {},
     "output_type": "display_data"
    }
   ],
   "source": [
    "import plotly.express as px\n",
    "\n",
    "df_hgb.columns = ['Minta', 'Rest', 'RER 0,9', 'RER 1,0',\n",
    "       'Max', \"R1'\", \"R2'\", \"R3'\", \"R4'\", \"R5'\", \"R7'\",\n",
    "       \"R10'\", \"R30'\"]\n",
    "df_hct.columns = ['Minta', 'Rest', 'RER 0,9', 'RER 1,0',\n",
    "       'Max', \"R1'\", \"R2'\", \"R3'\", \"R4'\", \"R5'\", \"R7'\",\n",
    "       \"R10'\", \"R30'\"]\n",
    "\n",
    "df_hct_long = df_hct.melt()\n",
    "df_hct_long = df_hct_long.loc[df_hct_long.variable != \"Minta\",:]\n",
    "\n",
    "df_hgb_long = df_hgb.melt()\n",
    "df_hgb_long = df_hgb_long.loc[df_hgb_long.variable != \"Minta\",:]\n",
    "\n",
    "fig = px.box(df_hct_long, x=\"variable\", y=\"value\")\n",
    "fig.show()"
   ]
  },
  {
   "cell_type": "code",
   "execution_count": 7,
   "metadata": {},
   "outputs": [],
   "source": [
    "y_hct = df_hct.iloc[:,1:].fillna(df_hct.iloc[:,1:].median()).apply(lambda x: np.median(x), axis=0)\n",
    "x_hct = df_hct.iloc[:,1:].columns\n",
    "y_hgb = df_hgb.iloc[:,1:].fillna(df_hgb.iloc[:,1:].median()).apply(lambda x: np.median(x), axis=0)\n",
    "x_hgb = df_hgb.iloc[:,1:].columns\n"
   ]
  },
  {
   "cell_type": "code",
   "execution_count": 8,
   "metadata": {},
   "outputs": [
    {
     "data": {
      "application/vnd.plotly.v1+json": {
       "config": {
        "plotlyServerURL": "https://plot.ly"
       },
       "data": [
        {
         "marker": {
          "color": "rgb(133, 92, 117)"
         },
         "name": "HGB line",
         "type": "scatter",
         "x": [
          "Rest",
          "RER 0,9",
          "RER 1,0",
          "Max",
          "R1'",
          "R2'",
          "R3'",
          "R4'",
          "R5'",
          "R7'",
          "R10'",
          "R30'"
         ],
         "xaxis": "x",
         "y": [
          15.600000000000001,
          15.7,
          16.65,
          17.4,
          17.5,
          17.2,
          17.3,
          17.2,
          17.1,
          16.8,
          16.4,
          15.7
         ],
         "yaxis": "y"
        },
        {
         "marker": {
          "color": "rgb(217, 175, 107)"
         },
         "name": "HGB box",
         "type": "box",
         "x": [
          "Rest",
          "Rest",
          "Rest",
          "Rest",
          "Rest",
          "Rest",
          "Rest",
          "Rest",
          "Rest",
          "Rest",
          "Rest",
          "Rest",
          "RER 0,9",
          "RER 0,9",
          "RER 0,9",
          "RER 0,9",
          "RER 0,9",
          "RER 0,9",
          "RER 0,9",
          "RER 0,9",
          "RER 0,9",
          "RER 0,9",
          "RER 0,9",
          "RER 0,9",
          "RER 1,0",
          "RER 1,0",
          "RER 1,0",
          "RER 1,0",
          "RER 1,0",
          "RER 1,0",
          "RER 1,0",
          "RER 1,0",
          "RER 1,0",
          "RER 1,0",
          "RER 1,0",
          "RER 1,0",
          "Max",
          "Max",
          "Max",
          "Max",
          "Max",
          "Max",
          "Max",
          "Max",
          "Max",
          "Max",
          "Max",
          "Max",
          "R1'",
          "R1'",
          "R1'",
          "R1'",
          "R1'",
          "R1'",
          "R1'",
          "R1'",
          "R1'",
          "R1'",
          "R1'",
          "R1'",
          "R2'",
          "R2'",
          "R2'",
          "R2'",
          "R2'",
          "R2'",
          "R2'",
          "R2'",
          "R2'",
          "R2'",
          "R2'",
          "R2'",
          "R3'",
          "R3'",
          "R3'",
          "R3'",
          "R3'",
          "R3'",
          "R3'",
          "R3'",
          "R3'",
          "R3'",
          "R3'",
          "R3'",
          "R4'",
          "R4'",
          "R4'",
          "R4'",
          "R4'",
          "R4'",
          "R4'",
          "R4'",
          "R4'",
          "R4'",
          "R4'",
          "R4'",
          "R5'",
          "R5'",
          "R5'",
          "R5'",
          "R5'",
          "R5'",
          "R5'",
          "R5'",
          "R5'",
          "R5'",
          "R5'",
          "R5'",
          "R7'",
          "R7'",
          "R7'",
          "R7'",
          "R7'",
          "R7'",
          "R7'",
          "R7'",
          "R7'",
          "R7'",
          "R7'",
          "R7'",
          "R10'",
          "R10'",
          "R10'",
          "R10'",
          "R10'",
          "R10'",
          "R10'",
          "R10'",
          "R10'",
          "R10'",
          "R10'",
          "R10'",
          "R30'",
          "R30'",
          "R30'",
          "R30'",
          "R30'",
          "R30'",
          "R30'",
          "R30'",
          "R30'",
          "R30'",
          "R30'",
          "R30'"
         ],
         "xaxis": "x",
         "y": [
          15.1,
          15.2,
          15.8,
          15.4,
          15.4,
          14.9,
          17.1,
          16,
          16.1,
          16.3,
          16.1,
          15.1,
          15.7,
          15.3,
          16.7,
          15.7,
          15.2,
          13.1,
          17.3,
          15.8,
          15.7,
          16.5,
          16.5,
          15.2,
          15.8,
          15.8,
          16.7,
          16.7,
          15.8,
          16.9,
          17,
          16,
          16.6,
          16.5,
          17.2,
          16.7,
          16.8,
          17.1,
          18,
          17.9,
          13.7,
          15.5,
          17.5,
          16.8,
          17.4,
          17.9,
          null,
          17.4,
          17.2,
          16.6,
          17.4,
          17.7,
          15.8,
          null,
          18.8,
          17.5,
          17.7,
          18,
          null,
          17.5,
          17.2,
          16.8,
          17.6,
          17.6,
          16.3,
          14.7,
          18.6,
          16.2,
          16.9,
          18,
          null,
          17.7,
          17.3,
          16.6,
          17.2,
          18,
          15.3,
          null,
          18.4,
          17,
          17.4,
          17.9,
          17.7,
          17.2,
          16.5,
          16.3,
          17.5,
          null,
          16,
          14.7,
          18.6,
          17,
          17.4,
          17.5,
          17.6,
          17.2,
          17,
          16.3,
          17.3,
          17.1,
          14.6,
          null,
          18.3,
          16.6,
          17.2,
          17.6,
          17.3,
          16.9,
          16.4,
          16.5,
          17.3,
          null,
          16.1,
          16.1,
          18.3,
          16.1,
          17,
          17.2,
          17.6,
          16.8,
          14.9,
          16.1,
          17,
          null,
          14.3,
          15.2,
          17.9,
          16.2,
          16.8,
          16.8,
          17,
          16.4,
          15.3,
          15.6,
          16.1,
          15.8,
          15,
          13.9,
          16.7,
          16,
          16,
          15.6,
          16.5,
          15
         ],
         "yaxis": "y"
        },
        {
         "marker": {
          "color": "rgb(175, 100, 88)"
         },
         "name": "HCT line",
         "type": "scatter",
         "x": [
          "Rest",
          "RER 0,9",
          "RER 1,0",
          "Max",
          "R1'",
          "R2'",
          "R3'",
          "R4'",
          "R5'",
          "R7'",
          "R10'",
          "R30'"
         ],
         "xaxis": "x2",
         "y": [
          47.9,
          48.2,
          50.95,
          53.4,
          53.650000000000006,
          52.6,
          53,
          52.7,
          52.4,
          51.4,
          50.4,
          48.15
         ],
         "yaxis": "y2"
        },
        {
         "marker": {
          "color": "rgb(115, 111, 76)"
         },
         "name": "HCT box",
         "type": "box",
         "x": [
          "Rest",
          "Rest",
          "Rest",
          "Rest",
          "Rest",
          "Rest",
          "Rest",
          "Rest",
          "Rest",
          "Rest",
          "Rest",
          "Rest",
          "RER 0,9",
          "RER 0,9",
          "RER 0,9",
          "RER 0,9",
          "RER 0,9",
          "RER 0,9",
          "RER 0,9",
          "RER 0,9",
          "RER 0,9",
          "RER 0,9",
          "RER 0,9",
          "RER 0,9",
          "RER 1,0",
          "RER 1,0",
          "RER 1,0",
          "RER 1,0",
          "RER 1,0",
          "RER 1,0",
          "RER 1,0",
          "RER 1,0",
          "RER 1,0",
          "RER 1,0",
          "RER 1,0",
          "RER 1,0",
          "Max",
          "Max",
          "Max",
          "Max",
          "Max",
          "Max",
          "Max",
          "Max",
          "Max",
          "Max",
          "Max",
          "R1'",
          "R1'",
          "R1'",
          "R1'",
          "R1'",
          "R1'",
          "R1'",
          "R1'",
          "R1'",
          "R1'",
          "R2'",
          "R2'",
          "R2'",
          "R2'",
          "R2'",
          "R2'",
          "R2'",
          "R2'",
          "R2'",
          "R2'",
          "R2'",
          "R3'",
          "R3'",
          "R3'",
          "R3'",
          "R3'",
          "R3'",
          "R3'",
          "R3'",
          "R3'",
          "R3'",
          "R3'",
          "R4'",
          "R4'",
          "R4'",
          "R4'",
          "R4'",
          "R4'",
          "R4'",
          "R4'",
          "R4'",
          "R4'",
          "R4'",
          "R5'",
          "R5'",
          "R5'",
          "R5'",
          "R5'",
          "R5'",
          "R5'",
          "R5'",
          "R5'",
          "R5'",
          "R5'",
          "R7'",
          "R7'",
          "R7'",
          "R7'",
          "R7'",
          "R7'",
          "R7'",
          "R7'",
          "R7'",
          "R7'",
          "R7'",
          "R10'",
          "R10'",
          "R10'",
          "R10'",
          "R10'",
          "R10'",
          "R10'",
          "R10'",
          "R10'",
          "R10'",
          "R10'",
          "R30'",
          "R30'",
          "R30'",
          "R30'",
          "R30'",
          "R30'",
          "R30'",
          "R30'",
          "R30'",
          "R30'",
          "R30'",
          "R30'"
         ],
         "xaxis": "x2",
         "y": [
          46.3,
          46.7,
          48.5,
          47.3,
          47.1,
          45.6,
          52.4,
          49.1,
          49.3,
          50.1,
          49.4,
          46.2,
          48,
          46.8,
          51.3,
          48.2,
          46.5,
          40.2,
          53,
          48.3,
          48.2,
          50.7,
          50.5,
          46.7,
          48.6,
          48.5,
          51.2,
          51.2,
          48.3,
          51.8,
          52.1,
          49.1,
          50.8,
          50.6,
          52.6,
          51.1,
          51.5,
          52.5,
          55.2,
          54.8,
          42.1,
          47.6,
          53.7,
          51.6,
          53.5,
          54.8,
          53.4,
          52.8,
          51,
          53.4,
          54.2,
          48.5,
          57.7,
          53.7,
          54.2,
          55.1,
          53.6,
          52.6,
          51.5,
          53.9,
          53.8,
          50,
          44.9,
          57,
          49.8,
          51.9,
          55.1,
          54.2,
          53,
          50.9,
          52.6,
          55.1,
          47,
          56.3,
          52.1,
          53.2,
          54.8,
          54.3,
          52.8,
          50.5,
          50.1,
          53.7,
          49,
          44.9,
          57,
          52.1,
          53.4,
          53.6,
          54,
          52.7,
          52,
          49.8,
          53.1,
          52.4,
          44.8,
          56,
          51,
          52.7,
          53.9,
          53,
          51.9,
          50.2,
          50.6,
          53.1,
          49.5,
          49.4,
          56.1,
          49.4,
          52.1,
          52.8,
          53.9,
          51.4,
          45.7,
          49.4,
          52.1,
          43.8,
          46.7,
          54.8,
          49.5,
          51.4,
          51.5,
          52.2,
          50.4,
          46.9,
          47.9,
          49.2,
          48.4,
          46.1,
          42.7,
          51.2,
          49.2,
          49,
          47.9,
          50.7,
          46.1
         ],
         "yaxis": "y2"
        }
       ],
       "layout": {
        "annotations": [
         {
          "font": {
           "size": 16
          },
          "showarrow": false,
          "text": "Hemoglobin [g/dl]",
          "x": 0.5,
          "xanchor": "center",
          "xref": "paper",
          "y": 1,
          "yanchor": "bottom",
          "yref": "paper"
         },
         {
          "font": {
           "size": 16
          },
          "showarrow": false,
          "text": "Hematocrit [%]",
          "x": 0.5,
          "xanchor": "center",
          "xref": "paper",
          "y": 0.375,
          "yanchor": "bottom",
          "yref": "paper"
         }
        ],
        "font": {
         "family": "Times New Roman"
        },
        "height": 600,
        "showlegend": false,
        "template": {
         "data": {
          "bar": [
           {
            "error_x": {
             "color": "#2a3f5f"
            },
            "error_y": {
             "color": "#2a3f5f"
            },
            "marker": {
             "line": {
              "color": "#E5ECF6",
              "width": 0.5
             },
             "pattern": {
              "fillmode": "overlay",
              "size": 10,
              "solidity": 0.2
             }
            },
            "type": "bar"
           }
          ],
          "barpolar": [
           {
            "marker": {
             "line": {
              "color": "#E5ECF6",
              "width": 0.5
             },
             "pattern": {
              "fillmode": "overlay",
              "size": 10,
              "solidity": 0.2
             }
            },
            "type": "barpolar"
           }
          ],
          "carpet": [
           {
            "aaxis": {
             "endlinecolor": "#2a3f5f",
             "gridcolor": "white",
             "linecolor": "white",
             "minorgridcolor": "white",
             "startlinecolor": "#2a3f5f"
            },
            "baxis": {
             "endlinecolor": "#2a3f5f",
             "gridcolor": "white",
             "linecolor": "white",
             "minorgridcolor": "white",
             "startlinecolor": "#2a3f5f"
            },
            "type": "carpet"
           }
          ],
          "choropleth": [
           {
            "colorbar": {
             "outlinewidth": 0,
             "ticks": ""
            },
            "type": "choropleth"
           }
          ],
          "contour": [
           {
            "colorbar": {
             "outlinewidth": 0,
             "ticks": ""
            },
            "colorscale": [
             [
              0,
              "#0d0887"
             ],
             [
              0.1111111111111111,
              "#46039f"
             ],
             [
              0.2222222222222222,
              "#7201a8"
             ],
             [
              0.3333333333333333,
              "#9c179e"
             ],
             [
              0.4444444444444444,
              "#bd3786"
             ],
             [
              0.5555555555555556,
              "#d8576b"
             ],
             [
              0.6666666666666666,
              "#ed7953"
             ],
             [
              0.7777777777777778,
              "#fb9f3a"
             ],
             [
              0.8888888888888888,
              "#fdca26"
             ],
             [
              1,
              "#f0f921"
             ]
            ],
            "type": "contour"
           }
          ],
          "contourcarpet": [
           {
            "colorbar": {
             "outlinewidth": 0,
             "ticks": ""
            },
            "type": "contourcarpet"
           }
          ],
          "heatmap": [
           {
            "colorbar": {
             "outlinewidth": 0,
             "ticks": ""
            },
            "colorscale": [
             [
              0,
              "#0d0887"
             ],
             [
              0.1111111111111111,
              "#46039f"
             ],
             [
              0.2222222222222222,
              "#7201a8"
             ],
             [
              0.3333333333333333,
              "#9c179e"
             ],
             [
              0.4444444444444444,
              "#bd3786"
             ],
             [
              0.5555555555555556,
              "#d8576b"
             ],
             [
              0.6666666666666666,
              "#ed7953"
             ],
             [
              0.7777777777777778,
              "#fb9f3a"
             ],
             [
              0.8888888888888888,
              "#fdca26"
             ],
             [
              1,
              "#f0f921"
             ]
            ],
            "type": "heatmap"
           }
          ],
          "heatmapgl": [
           {
            "colorbar": {
             "outlinewidth": 0,
             "ticks": ""
            },
            "colorscale": [
             [
              0,
              "#0d0887"
             ],
             [
              0.1111111111111111,
              "#46039f"
             ],
             [
              0.2222222222222222,
              "#7201a8"
             ],
             [
              0.3333333333333333,
              "#9c179e"
             ],
             [
              0.4444444444444444,
              "#bd3786"
             ],
             [
              0.5555555555555556,
              "#d8576b"
             ],
             [
              0.6666666666666666,
              "#ed7953"
             ],
             [
              0.7777777777777778,
              "#fb9f3a"
             ],
             [
              0.8888888888888888,
              "#fdca26"
             ],
             [
              1,
              "#f0f921"
             ]
            ],
            "type": "heatmapgl"
           }
          ],
          "histogram": [
           {
            "marker": {
             "pattern": {
              "fillmode": "overlay",
              "size": 10,
              "solidity": 0.2
             }
            },
            "type": "histogram"
           }
          ],
          "histogram2d": [
           {
            "colorbar": {
             "outlinewidth": 0,
             "ticks": ""
            },
            "colorscale": [
             [
              0,
              "#0d0887"
             ],
             [
              0.1111111111111111,
              "#46039f"
             ],
             [
              0.2222222222222222,
              "#7201a8"
             ],
             [
              0.3333333333333333,
              "#9c179e"
             ],
             [
              0.4444444444444444,
              "#bd3786"
             ],
             [
              0.5555555555555556,
              "#d8576b"
             ],
             [
              0.6666666666666666,
              "#ed7953"
             ],
             [
              0.7777777777777778,
              "#fb9f3a"
             ],
             [
              0.8888888888888888,
              "#fdca26"
             ],
             [
              1,
              "#f0f921"
             ]
            ],
            "type": "histogram2d"
           }
          ],
          "histogram2dcontour": [
           {
            "colorbar": {
             "outlinewidth": 0,
             "ticks": ""
            },
            "colorscale": [
             [
              0,
              "#0d0887"
             ],
             [
              0.1111111111111111,
              "#46039f"
             ],
             [
              0.2222222222222222,
              "#7201a8"
             ],
             [
              0.3333333333333333,
              "#9c179e"
             ],
             [
              0.4444444444444444,
              "#bd3786"
             ],
             [
              0.5555555555555556,
              "#d8576b"
             ],
             [
              0.6666666666666666,
              "#ed7953"
             ],
             [
              0.7777777777777778,
              "#fb9f3a"
             ],
             [
              0.8888888888888888,
              "#fdca26"
             ],
             [
              1,
              "#f0f921"
             ]
            ],
            "type": "histogram2dcontour"
           }
          ],
          "mesh3d": [
           {
            "colorbar": {
             "outlinewidth": 0,
             "ticks": ""
            },
            "type": "mesh3d"
           }
          ],
          "parcoords": [
           {
            "line": {
             "colorbar": {
              "outlinewidth": 0,
              "ticks": ""
             }
            },
            "type": "parcoords"
           }
          ],
          "pie": [
           {
            "automargin": true,
            "type": "pie"
           }
          ],
          "scatter": [
           {
            "marker": {
             "colorbar": {
              "outlinewidth": 0,
              "ticks": ""
             }
            },
            "type": "scatter"
           }
          ],
          "scatter3d": [
           {
            "line": {
             "colorbar": {
              "outlinewidth": 0,
              "ticks": ""
             }
            },
            "marker": {
             "colorbar": {
              "outlinewidth": 0,
              "ticks": ""
             }
            },
            "type": "scatter3d"
           }
          ],
          "scattercarpet": [
           {
            "marker": {
             "colorbar": {
              "outlinewidth": 0,
              "ticks": ""
             }
            },
            "type": "scattercarpet"
           }
          ],
          "scattergeo": [
           {
            "marker": {
             "colorbar": {
              "outlinewidth": 0,
              "ticks": ""
             }
            },
            "type": "scattergeo"
           }
          ],
          "scattergl": [
           {
            "marker": {
             "colorbar": {
              "outlinewidth": 0,
              "ticks": ""
             }
            },
            "type": "scattergl"
           }
          ],
          "scattermapbox": [
           {
            "marker": {
             "colorbar": {
              "outlinewidth": 0,
              "ticks": ""
             }
            },
            "type": "scattermapbox"
           }
          ],
          "scatterpolar": [
           {
            "marker": {
             "colorbar": {
              "outlinewidth": 0,
              "ticks": ""
             }
            },
            "type": "scatterpolar"
           }
          ],
          "scatterpolargl": [
           {
            "marker": {
             "colorbar": {
              "outlinewidth": 0,
              "ticks": ""
             }
            },
            "type": "scatterpolargl"
           }
          ],
          "scatterternary": [
           {
            "marker": {
             "colorbar": {
              "outlinewidth": 0,
              "ticks": ""
             }
            },
            "type": "scatterternary"
           }
          ],
          "surface": [
           {
            "colorbar": {
             "outlinewidth": 0,
             "ticks": ""
            },
            "colorscale": [
             [
              0,
              "#0d0887"
             ],
             [
              0.1111111111111111,
              "#46039f"
             ],
             [
              0.2222222222222222,
              "#7201a8"
             ],
             [
              0.3333333333333333,
              "#9c179e"
             ],
             [
              0.4444444444444444,
              "#bd3786"
             ],
             [
              0.5555555555555556,
              "#d8576b"
             ],
             [
              0.6666666666666666,
              "#ed7953"
             ],
             [
              0.7777777777777778,
              "#fb9f3a"
             ],
             [
              0.8888888888888888,
              "#fdca26"
             ],
             [
              1,
              "#f0f921"
             ]
            ],
            "type": "surface"
           }
          ],
          "table": [
           {
            "cells": {
             "fill": {
              "color": "#EBF0F8"
             },
             "line": {
              "color": "white"
             }
            },
            "header": {
             "fill": {
              "color": "#C8D4E3"
             },
             "line": {
              "color": "white"
             }
            },
            "type": "table"
           }
          ]
         },
         "layout": {
          "annotationdefaults": {
           "arrowcolor": "#2a3f5f",
           "arrowhead": 0,
           "arrowwidth": 1
          },
          "autotypenumbers": "strict",
          "coloraxis": {
           "colorbar": {
            "outlinewidth": 0,
            "ticks": ""
           }
          },
          "colorscale": {
           "diverging": [
            [
             0,
             "#8e0152"
            ],
            [
             0.1,
             "#c51b7d"
            ],
            [
             0.2,
             "#de77ae"
            ],
            [
             0.3,
             "#f1b6da"
            ],
            [
             0.4,
             "#fde0ef"
            ],
            [
             0.5,
             "#f7f7f7"
            ],
            [
             0.6,
             "#e6f5d0"
            ],
            [
             0.7,
             "#b8e186"
            ],
            [
             0.8,
             "#7fbc41"
            ],
            [
             0.9,
             "#4d9221"
            ],
            [
             1,
             "#276419"
            ]
           ],
           "sequential": [
            [
             0,
             "#0d0887"
            ],
            [
             0.1111111111111111,
             "#46039f"
            ],
            [
             0.2222222222222222,
             "#7201a8"
            ],
            [
             0.3333333333333333,
             "#9c179e"
            ],
            [
             0.4444444444444444,
             "#bd3786"
            ],
            [
             0.5555555555555556,
             "#d8576b"
            ],
            [
             0.6666666666666666,
             "#ed7953"
            ],
            [
             0.7777777777777778,
             "#fb9f3a"
            ],
            [
             0.8888888888888888,
             "#fdca26"
            ],
            [
             1,
             "#f0f921"
            ]
           ],
           "sequentialminus": [
            [
             0,
             "#0d0887"
            ],
            [
             0.1111111111111111,
             "#46039f"
            ],
            [
             0.2222222222222222,
             "#7201a8"
            ],
            [
             0.3333333333333333,
             "#9c179e"
            ],
            [
             0.4444444444444444,
             "#bd3786"
            ],
            [
             0.5555555555555556,
             "#d8576b"
            ],
            [
             0.6666666666666666,
             "#ed7953"
            ],
            [
             0.7777777777777778,
             "#fb9f3a"
            ],
            [
             0.8888888888888888,
             "#fdca26"
            ],
            [
             1,
             "#f0f921"
            ]
           ]
          },
          "colorway": [
           "#636efa",
           "#EF553B",
           "#00cc96",
           "#ab63fa",
           "#FFA15A",
           "#19d3f3",
           "#FF6692",
           "#B6E880",
           "#FF97FF",
           "#FECB52"
          ],
          "font": {
           "color": "#2a3f5f"
          },
          "geo": {
           "bgcolor": "white",
           "lakecolor": "white",
           "landcolor": "#E5ECF6",
           "showlakes": true,
           "showland": true,
           "subunitcolor": "white"
          },
          "hoverlabel": {
           "align": "left"
          },
          "hovermode": "closest",
          "mapbox": {
           "style": "light"
          },
          "paper_bgcolor": "white",
          "plot_bgcolor": "#E5ECF6",
          "polar": {
           "angularaxis": {
            "gridcolor": "white",
            "linecolor": "white",
            "ticks": ""
           },
           "bgcolor": "#E5ECF6",
           "radialaxis": {
            "gridcolor": "white",
            "linecolor": "white",
            "ticks": ""
           }
          },
          "scene": {
           "xaxis": {
            "backgroundcolor": "#E5ECF6",
            "gridcolor": "white",
            "gridwidth": 2,
            "linecolor": "white",
            "showbackground": true,
            "ticks": "",
            "zerolinecolor": "white"
           },
           "yaxis": {
            "backgroundcolor": "#E5ECF6",
            "gridcolor": "white",
            "gridwidth": 2,
            "linecolor": "white",
            "showbackground": true,
            "ticks": "",
            "zerolinecolor": "white"
           },
           "zaxis": {
            "backgroundcolor": "#E5ECF6",
            "gridcolor": "white",
            "gridwidth": 2,
            "linecolor": "white",
            "showbackground": true,
            "ticks": "",
            "zerolinecolor": "white"
           }
          },
          "shapedefaults": {
           "line": {
            "color": "#2a3f5f"
           }
          },
          "ternary": {
           "aaxis": {
            "gridcolor": "white",
            "linecolor": "white",
            "ticks": ""
           },
           "baxis": {
            "gridcolor": "white",
            "linecolor": "white",
            "ticks": ""
           },
           "bgcolor": "#E5ECF6",
           "caxis": {
            "gridcolor": "white",
            "linecolor": "white",
            "ticks": ""
           }
          },
          "title": {
           "x": 0.05
          },
          "xaxis": {
           "automargin": true,
           "gridcolor": "white",
           "linecolor": "white",
           "ticks": "",
           "title": {
            "standoff": 15
           },
           "zerolinecolor": "white",
           "zerolinewidth": 2
          },
          "yaxis": {
           "automargin": true,
           "gridcolor": "white",
           "linecolor": "white",
           "ticks": "",
           "title": {
            "standoff": 15
           },
           "zerolinecolor": "white",
           "zerolinewidth": 2
          }
         }
        },
        "title": {
         "text": ""
        },
        "width": 800,
        "xaxis": {
         "anchor": "y",
         "domain": [
          0,
          1
         ]
        },
        "xaxis2": {
         "anchor": "y2",
         "domain": [
          0,
          1
         ]
        },
        "yaxis": {
         "anchor": "x",
         "domain": [
          0.625,
          1
         ]
        },
        "yaxis2": {
         "anchor": "x2",
         "domain": [
          0,
          0.375
         ]
        }
       }
      }
     },
     "metadata": {},
     "output_type": "display_data"
    }
   ],
   "source": [
    "import plotly.graph_objects as go\n",
    "from plotly.subplots import make_subplots\n",
    "import plotly.express as px\n",
    "from itertools import cycle\n",
    "\n",
    "df_hct_long = df_hct_long.dropna()\n",
    "\n",
    "palette = cycle(px.colors.qualitative.Antique)\n",
    "\n",
    "fig = make_subplots(rows=2, cols=1, subplot_titles=(\"Hemoglobin [g/dl]\", \"Hematocrit [%]\"))\n",
    "\n",
    "fig.add_trace(go.Scatter(\n",
    "    x=x_hgb, y=y_hgb,\n",
    "    name='HGB line', marker_color=next(palette)), \n",
    "    row = 1, col =1\n",
    ")\n",
    "fig.add_trace(go.Box(\n",
    "    x=df_hgb_long.variable, y=df_hgb_long.value,\n",
    "    name='HGB box', marker_color=next(palette)), \n",
    "    row = 1, col =1\n",
    ")\n",
    "\n",
    "\n",
    "fig.add_trace(go.Scatter(\n",
    "    x=x_hct, y=y_hct,\n",
    "    name='HCT line', marker_color=next(palette)), \n",
    "    row = 2, col =1\n",
    ")\n",
    "fig.add_trace(go.Box(\n",
    "    x=df_hct_long.variable, y=df_hct_long.value,\n",
    "    name='HCT box', marker_color=next(palette)), \n",
    "    row = 2, col =1\n",
    ")\n",
    "#fig.layout.xaxis.titlefont.family = 'Times New Roman'\n",
    "#fig.layout.yaxis.titlefont.family = 'Times New Roman'\n",
    "fig.update_layout(font_family='Times New Roman', showlegend=False)\n",
    "fig.update_layout(height=600, width=800, title_text=\"\")\n",
    "fig.show()\n",
    "#box(df_hct_long, x=\"variable\", y=\"value\")"
   ]
  },
  {
   "cell_type": "code",
   "execution_count": 17,
   "metadata": {},
   "outputs": [],
   "source": [
    "df_mosm_hosszu = df_values_pairs_hosszu(file = \"DH_nagy.xlsx\", nevek = pair_list, val = \"mOsm (mmol/kg)\")\n",
    "df_hgb_hosszu = df_values_pairs_hosszu(file = \"DH_nagy.xlsx\", nevek = pair_list, val = \"tHb (g/dL)\")\n",
    "\n",
    "y_mosm = df_mosm_hosszu.iloc[:,1:11].fillna(df_mosm_hosszu.iloc[:,1:].median()).apply(lambda x: np.median(x), axis=0)\n",
    "x_mosm = df_mosm_hosszu.iloc[:,1:11].columns\n",
    "y_hgb_h = df_hgb_hosszu.iloc[:,1:11].fillna(df_hgb_hosszu.iloc[:,1:].median()).apply(lambda x: np.median(x), axis=0)\n",
    "x_hgb_h = df_hgb_hosszu.iloc[:,1:11].columns\n",
    "\n",
    "df_mosm_hosszu_long = df_mosm_hosszu.iloc[:,0:11].melt()\n",
    "df_mosm_hosszu_long = df_mosm_hosszu_long.loc[df_mosm_hosszu_long.variable != \"Minta\",:]\n",
    "\n",
    "df_hgb_h_long = df_hgb_hosszu.iloc[:,0:11].melt()\n",
    "df_hgb_h_long = df_hgb_h_long.loc[df_hgb_h_long.variable != \"Minta\",:]\n"
   ]
  },
  {
   "cell_type": "code",
   "execution_count": 18,
   "metadata": {},
   "outputs": [
    {
     "data": {
      "application/vnd.plotly.v1+json": {
       "config": {
        "plotlyServerURL": "https://plot.ly"
       },
       "data": [
        {
         "marker": {
          "color": "rgb(133, 92, 117)"
         },
         "name": "HGB line",
         "type": "scatter",
         "x": [
          "Nyugalmi (T. előtt)",
          "20'",
          "40'",
          "60'",
          "80'",
          "100'",
          "120'",
          "VM",
          "R5'",
          "R30'"
         ],
         "y": [
          15.649999999999999,
          16.1,
          16.25,
          16.35,
          16.5,
          16.3,
          16.5,
          16.9,
          16.2,
          15.75
         ]
        },
        {
         "marker": {
          "color": "rgb(217, 175, 107)"
         },
         "name": "HGB box",
         "type": "box",
         "x": [
          "Nyugalmi (T. előtt)",
          "Nyugalmi (T. előtt)",
          "Nyugalmi (T. előtt)",
          "Nyugalmi (T. előtt)",
          "Nyugalmi (T. előtt)",
          "Nyugalmi (T. előtt)",
          "Nyugalmi (T. előtt)",
          "Nyugalmi (T. előtt)",
          "Nyugalmi (T. előtt)",
          "Nyugalmi (T. előtt)",
          "Nyugalmi (T. előtt)",
          "Nyugalmi (T. előtt)",
          "20'",
          "20'",
          "20'",
          "20'",
          "20'",
          "20'",
          "20'",
          "20'",
          "20'",
          "20'",
          "20'",
          "20'",
          "40'",
          "40'",
          "40'",
          "40'",
          "40'",
          "40'",
          "40'",
          "40'",
          "40'",
          "40'",
          "40'",
          "40'",
          "60'",
          "60'",
          "60'",
          "60'",
          "60'",
          "60'",
          "60'",
          "60'",
          "60'",
          "60'",
          "60'",
          "60'",
          "80'",
          "80'",
          "80'",
          "80'",
          "80'",
          "80'",
          "80'",
          "80'",
          "80'",
          "80'",
          "80'",
          "100'",
          "100'",
          "100'",
          "100'",
          "100'",
          "100'",
          "100'",
          "100'",
          "100'",
          "100'",
          "100'",
          "120'",
          "120'",
          "120'",
          "120'",
          "120'",
          "120'",
          "120'",
          "120'",
          "120'",
          "120'",
          "120'",
          "VM",
          "VM",
          "VM",
          "VM",
          "VM",
          "VM",
          "VM",
          "VM",
          "VM",
          "VM",
          "R5'",
          "R5'",
          "R5'",
          "R5'",
          "R5'",
          "R5'",
          "R5'",
          "R5'",
          "R5'",
          "R5'",
          "R5'",
          "R30'",
          "R30'",
          "R30'",
          "R30'",
          "R30'",
          "R30'",
          "R30'",
          "R30'",
          "R30'",
          "R30'",
          "R30'",
          "R30'"
         ],
         "y": [
          15.6,
          15.7,
          16,
          17.3,
          15.9,
          14.3,
          14.9,
          16.5,
          15.5,
          15.2,
          16.2,
          15.5,
          15.8,
          16,
          17,
          17,
          16.5,
          14.4,
          15.3,
          16.1,
          16.4,
          15.8,
          16.9,
          16.1,
          16.2,
          15.8,
          16.3,
          17.3,
          16.3,
          14.5,
          15.7,
          16.3,
          16.4,
          16.1,
          17.3,
          16.2,
          16.4,
          15.1,
          16.7,
          17.2,
          16.1,
          14,
          16.3,
          16.4,
          16.6,
          15.8,
          17.2,
          16,
          15.9,
          17,
          17.2,
          16,
          14.7,
          15.8,
          16.6,
          16.7,
          16.2,
          17.6,
          16.5,
          15.9,
          17.1,
          12.1,
          16.3,
          14.7,
          16.5,
          16.8,
          16.6,
          16.3,
          17.7,
          16.3,
          15.7,
          17.1,
          16.9,
          16.3,
          14.6,
          16.5,
          16.7,
          16.6,
          15.4,
          17.6,
          16,
          16.8,
          18.1,
          17.8,
          16.3,
          14.3,
          17,
          16.8,
          16.1,
          18.7,
          17,
          16.2,
          17.5,
          15.5,
          16.3,
          15.2,
          16.5,
          15.7,
          16.9,
          15.8,
          17.1,
          16,
          14.8,
          15.6,
          16.5,
          16.1,
          15.5,
          15,
          15.4,
          15.9,
          15.9,
          16.2,
          17,
          15.5
         ]
        },
        {
         "marker": {
          "color": "rgb(175, 100, 88)"
         },
         "name": "mOsm line",
         "type": "scatter",
         "x": [
          "Nyugalmi (T. előtt)",
          "20'",
          "40'",
          "60'",
          "80'",
          "100'",
          "120'",
          "VM",
          "R5'",
          "R30'"
         ],
         "y": [
          290.95,
          294.4,
          295.6,
          296.65,
          297.5,
          298.4,
          301.3,
          306.2,
          303.7,
          298.15
         ]
        },
        {
         "marker": {
          "color": "rgb(115, 111, 76)"
         },
         "name": "mOsm box",
         "type": "box",
         "x": [
          "Nyugalmi (T. előtt)",
          "Nyugalmi (T. előtt)",
          "Nyugalmi (T. előtt)",
          "Nyugalmi (T. előtt)",
          "Nyugalmi (T. előtt)",
          "Nyugalmi (T. előtt)",
          "Nyugalmi (T. előtt)",
          "Nyugalmi (T. előtt)",
          "Nyugalmi (T. előtt)",
          "Nyugalmi (T. előtt)",
          "Nyugalmi (T. előtt)",
          "Nyugalmi (T. előtt)",
          "20'",
          "20'",
          "20'",
          "20'",
          "20'",
          "20'",
          "20'",
          "20'",
          "20'",
          "20'",
          "20'",
          "20'",
          "40'",
          "40'",
          "40'",
          "40'",
          "40'",
          "40'",
          "40'",
          "40'",
          "40'",
          "40'",
          "40'",
          "40'",
          "60'",
          "60'",
          "60'",
          "60'",
          "60'",
          "60'",
          "60'",
          "60'",
          "60'",
          "60'",
          "60'",
          "60'",
          "80'",
          "80'",
          "80'",
          "80'",
          "80'",
          "80'",
          "80'",
          "80'",
          "80'",
          "80'",
          "80'",
          "100'",
          "100'",
          "100'",
          "100'",
          "100'",
          "100'",
          "100'",
          "100'",
          "100'",
          "100'",
          "100'",
          "120'",
          "120'",
          "120'",
          "120'",
          "120'",
          "120'",
          "120'",
          "120'",
          "120'",
          "120'",
          "120'",
          "VM",
          "VM",
          "VM",
          "VM",
          "VM",
          "VM",
          "VM",
          "VM",
          "VM",
          "VM",
          "R5'",
          "R5'",
          "R5'",
          "R5'",
          "R5'",
          "R5'",
          "R5'",
          "R5'",
          "R5'",
          "R5'",
          "R5'",
          "R30'",
          "R30'",
          "R30'",
          "R30'",
          "R30'",
          "R30'",
          "R30'",
          "R30'",
          "R30'",
          "R30'",
          "R30'",
          "R30'"
         ],
         "y": [
          286.9,
          291.4,
          288.8,
          290.1,
          288.3,
          290.5,
          294.5,
          291.4,
          296.7,
          298.6,
          293.7,
          290.5,
          293.8,
          294,
          292.7,
          296.5,
          292.4,
          294.9,
          298,
          293.3,
          294.8,
          296.3,
          297.5,
          293.4,
          294.8,
          295.6,
          295.6,
          299.2,
          292.7,
          294.3,
          297.9,
          292.5,
          298,
          295.8,
          298.5,
          294.8,
          296.5,
          296.7,
          296.1,
          297.2,
          294.8,
          297.6,
          303.5,
          293.4,
          296.6,
          298.2,
          298.3,
          292.6,
          297.4,
          296.9,
          297.5,
          296.3,
          296.3,
          301.9,
          293.7,
          299,
          299.9,
          298,
          297.5,
          298.1,
          298.8,
          296.9,
          297.1,
          298.2,
          303.2,
          293.7,
          299.6,
          301.8,
          299.5,
          298.4,
          299.5,
          300,
          302.8,
          301.6,
          298.5,
          304.1,
          296.1,
          301.3,
          306.2,
          301.4,
          300,
          304.2,
          306.8,
          307.4,
          301.6,
          304.4,
          313.3,
          306.5,
          312.1,
          305.9,
          303.4,
          300,
          301.4,
          305.4,
          300.6,
          306.9,
          307,
          295.6,
          303.7,
          305.3,
          308.2,
          299.9,
          295.9,
          295.7,
          297.5,
          298.8,
          297.8,
          304.4,
          303.9,
          295.3,
          304.5,
          298.5,
          301,
          296.9
         ]
        }
       ],
       "layout": {
        "font": {
         "family": "Times New Roman"
        },
        "height": 600,
        "showlegend": true,
        "template": {
         "data": {
          "bar": [
           {
            "error_x": {
             "color": "#2a3f5f"
            },
            "error_y": {
             "color": "#2a3f5f"
            },
            "marker": {
             "line": {
              "color": "#E5ECF6",
              "width": 0.5
             },
             "pattern": {
              "fillmode": "overlay",
              "size": 10,
              "solidity": 0.2
             }
            },
            "type": "bar"
           }
          ],
          "barpolar": [
           {
            "marker": {
             "line": {
              "color": "#E5ECF6",
              "width": 0.5
             },
             "pattern": {
              "fillmode": "overlay",
              "size": 10,
              "solidity": 0.2
             }
            },
            "type": "barpolar"
           }
          ],
          "carpet": [
           {
            "aaxis": {
             "endlinecolor": "#2a3f5f",
             "gridcolor": "white",
             "linecolor": "white",
             "minorgridcolor": "white",
             "startlinecolor": "#2a3f5f"
            },
            "baxis": {
             "endlinecolor": "#2a3f5f",
             "gridcolor": "white",
             "linecolor": "white",
             "minorgridcolor": "white",
             "startlinecolor": "#2a3f5f"
            },
            "type": "carpet"
           }
          ],
          "choropleth": [
           {
            "colorbar": {
             "outlinewidth": 0,
             "ticks": ""
            },
            "type": "choropleth"
           }
          ],
          "contour": [
           {
            "colorbar": {
             "outlinewidth": 0,
             "ticks": ""
            },
            "colorscale": [
             [
              0,
              "#0d0887"
             ],
             [
              0.1111111111111111,
              "#46039f"
             ],
             [
              0.2222222222222222,
              "#7201a8"
             ],
             [
              0.3333333333333333,
              "#9c179e"
             ],
             [
              0.4444444444444444,
              "#bd3786"
             ],
             [
              0.5555555555555556,
              "#d8576b"
             ],
             [
              0.6666666666666666,
              "#ed7953"
             ],
             [
              0.7777777777777778,
              "#fb9f3a"
             ],
             [
              0.8888888888888888,
              "#fdca26"
             ],
             [
              1,
              "#f0f921"
             ]
            ],
            "type": "contour"
           }
          ],
          "contourcarpet": [
           {
            "colorbar": {
             "outlinewidth": 0,
             "ticks": ""
            },
            "type": "contourcarpet"
           }
          ],
          "heatmap": [
           {
            "colorbar": {
             "outlinewidth": 0,
             "ticks": ""
            },
            "colorscale": [
             [
              0,
              "#0d0887"
             ],
             [
              0.1111111111111111,
              "#46039f"
             ],
             [
              0.2222222222222222,
              "#7201a8"
             ],
             [
              0.3333333333333333,
              "#9c179e"
             ],
             [
              0.4444444444444444,
              "#bd3786"
             ],
             [
              0.5555555555555556,
              "#d8576b"
             ],
             [
              0.6666666666666666,
              "#ed7953"
             ],
             [
              0.7777777777777778,
              "#fb9f3a"
             ],
             [
              0.8888888888888888,
              "#fdca26"
             ],
             [
              1,
              "#f0f921"
             ]
            ],
            "type": "heatmap"
           }
          ],
          "heatmapgl": [
           {
            "colorbar": {
             "outlinewidth": 0,
             "ticks": ""
            },
            "colorscale": [
             [
              0,
              "#0d0887"
             ],
             [
              0.1111111111111111,
              "#46039f"
             ],
             [
              0.2222222222222222,
              "#7201a8"
             ],
             [
              0.3333333333333333,
              "#9c179e"
             ],
             [
              0.4444444444444444,
              "#bd3786"
             ],
             [
              0.5555555555555556,
              "#d8576b"
             ],
             [
              0.6666666666666666,
              "#ed7953"
             ],
             [
              0.7777777777777778,
              "#fb9f3a"
             ],
             [
              0.8888888888888888,
              "#fdca26"
             ],
             [
              1,
              "#f0f921"
             ]
            ],
            "type": "heatmapgl"
           }
          ],
          "histogram": [
           {
            "marker": {
             "pattern": {
              "fillmode": "overlay",
              "size": 10,
              "solidity": 0.2
             }
            },
            "type": "histogram"
           }
          ],
          "histogram2d": [
           {
            "colorbar": {
             "outlinewidth": 0,
             "ticks": ""
            },
            "colorscale": [
             [
              0,
              "#0d0887"
             ],
             [
              0.1111111111111111,
              "#46039f"
             ],
             [
              0.2222222222222222,
              "#7201a8"
             ],
             [
              0.3333333333333333,
              "#9c179e"
             ],
             [
              0.4444444444444444,
              "#bd3786"
             ],
             [
              0.5555555555555556,
              "#d8576b"
             ],
             [
              0.6666666666666666,
              "#ed7953"
             ],
             [
              0.7777777777777778,
              "#fb9f3a"
             ],
             [
              0.8888888888888888,
              "#fdca26"
             ],
             [
              1,
              "#f0f921"
             ]
            ],
            "type": "histogram2d"
           }
          ],
          "histogram2dcontour": [
           {
            "colorbar": {
             "outlinewidth": 0,
             "ticks": ""
            },
            "colorscale": [
             [
              0,
              "#0d0887"
             ],
             [
              0.1111111111111111,
              "#46039f"
             ],
             [
              0.2222222222222222,
              "#7201a8"
             ],
             [
              0.3333333333333333,
              "#9c179e"
             ],
             [
              0.4444444444444444,
              "#bd3786"
             ],
             [
              0.5555555555555556,
              "#d8576b"
             ],
             [
              0.6666666666666666,
              "#ed7953"
             ],
             [
              0.7777777777777778,
              "#fb9f3a"
             ],
             [
              0.8888888888888888,
              "#fdca26"
             ],
             [
              1,
              "#f0f921"
             ]
            ],
            "type": "histogram2dcontour"
           }
          ],
          "mesh3d": [
           {
            "colorbar": {
             "outlinewidth": 0,
             "ticks": ""
            },
            "type": "mesh3d"
           }
          ],
          "parcoords": [
           {
            "line": {
             "colorbar": {
              "outlinewidth": 0,
              "ticks": ""
             }
            },
            "type": "parcoords"
           }
          ],
          "pie": [
           {
            "automargin": true,
            "type": "pie"
           }
          ],
          "scatter": [
           {
            "marker": {
             "colorbar": {
              "outlinewidth": 0,
              "ticks": ""
             }
            },
            "type": "scatter"
           }
          ],
          "scatter3d": [
           {
            "line": {
             "colorbar": {
              "outlinewidth": 0,
              "ticks": ""
             }
            },
            "marker": {
             "colorbar": {
              "outlinewidth": 0,
              "ticks": ""
             }
            },
            "type": "scatter3d"
           }
          ],
          "scattercarpet": [
           {
            "marker": {
             "colorbar": {
              "outlinewidth": 0,
              "ticks": ""
             }
            },
            "type": "scattercarpet"
           }
          ],
          "scattergeo": [
           {
            "marker": {
             "colorbar": {
              "outlinewidth": 0,
              "ticks": ""
             }
            },
            "type": "scattergeo"
           }
          ],
          "scattergl": [
           {
            "marker": {
             "colorbar": {
              "outlinewidth": 0,
              "ticks": ""
             }
            },
            "type": "scattergl"
           }
          ],
          "scattermapbox": [
           {
            "marker": {
             "colorbar": {
              "outlinewidth": 0,
              "ticks": ""
             }
            },
            "type": "scattermapbox"
           }
          ],
          "scatterpolar": [
           {
            "marker": {
             "colorbar": {
              "outlinewidth": 0,
              "ticks": ""
             }
            },
            "type": "scatterpolar"
           }
          ],
          "scatterpolargl": [
           {
            "marker": {
             "colorbar": {
              "outlinewidth": 0,
              "ticks": ""
             }
            },
            "type": "scatterpolargl"
           }
          ],
          "scatterternary": [
           {
            "marker": {
             "colorbar": {
              "outlinewidth": 0,
              "ticks": ""
             }
            },
            "type": "scatterternary"
           }
          ],
          "surface": [
           {
            "colorbar": {
             "outlinewidth": 0,
             "ticks": ""
            },
            "colorscale": [
             [
              0,
              "#0d0887"
             ],
             [
              0.1111111111111111,
              "#46039f"
             ],
             [
              0.2222222222222222,
              "#7201a8"
             ],
             [
              0.3333333333333333,
              "#9c179e"
             ],
             [
              0.4444444444444444,
              "#bd3786"
             ],
             [
              0.5555555555555556,
              "#d8576b"
             ],
             [
              0.6666666666666666,
              "#ed7953"
             ],
             [
              0.7777777777777778,
              "#fb9f3a"
             ],
             [
              0.8888888888888888,
              "#fdca26"
             ],
             [
              1,
              "#f0f921"
             ]
            ],
            "type": "surface"
           }
          ],
          "table": [
           {
            "cells": {
             "fill": {
              "color": "#EBF0F8"
             },
             "line": {
              "color": "white"
             }
            },
            "header": {
             "fill": {
              "color": "#C8D4E3"
             },
             "line": {
              "color": "white"
             }
            },
            "type": "table"
           }
          ]
         },
         "layout": {
          "annotationdefaults": {
           "arrowcolor": "#2a3f5f",
           "arrowhead": 0,
           "arrowwidth": 1
          },
          "autotypenumbers": "strict",
          "coloraxis": {
           "colorbar": {
            "outlinewidth": 0,
            "ticks": ""
           }
          },
          "colorscale": {
           "diverging": [
            [
             0,
             "#8e0152"
            ],
            [
             0.1,
             "#c51b7d"
            ],
            [
             0.2,
             "#de77ae"
            ],
            [
             0.3,
             "#f1b6da"
            ],
            [
             0.4,
             "#fde0ef"
            ],
            [
             0.5,
             "#f7f7f7"
            ],
            [
             0.6,
             "#e6f5d0"
            ],
            [
             0.7,
             "#b8e186"
            ],
            [
             0.8,
             "#7fbc41"
            ],
            [
             0.9,
             "#4d9221"
            ],
            [
             1,
             "#276419"
            ]
           ],
           "sequential": [
            [
             0,
             "#0d0887"
            ],
            [
             0.1111111111111111,
             "#46039f"
            ],
            [
             0.2222222222222222,
             "#7201a8"
            ],
            [
             0.3333333333333333,
             "#9c179e"
            ],
            [
             0.4444444444444444,
             "#bd3786"
            ],
            [
             0.5555555555555556,
             "#d8576b"
            ],
            [
             0.6666666666666666,
             "#ed7953"
            ],
            [
             0.7777777777777778,
             "#fb9f3a"
            ],
            [
             0.8888888888888888,
             "#fdca26"
            ],
            [
             1,
             "#f0f921"
            ]
           ],
           "sequentialminus": [
            [
             0,
             "#0d0887"
            ],
            [
             0.1111111111111111,
             "#46039f"
            ],
            [
             0.2222222222222222,
             "#7201a8"
            ],
            [
             0.3333333333333333,
             "#9c179e"
            ],
            [
             0.4444444444444444,
             "#bd3786"
            ],
            [
             0.5555555555555556,
             "#d8576b"
            ],
            [
             0.6666666666666666,
             "#ed7953"
            ],
            [
             0.7777777777777778,
             "#fb9f3a"
            ],
            [
             0.8888888888888888,
             "#fdca26"
            ],
            [
             1,
             "#f0f921"
            ]
           ]
          },
          "colorway": [
           "#636efa",
           "#EF553B",
           "#00cc96",
           "#ab63fa",
           "#FFA15A",
           "#19d3f3",
           "#FF6692",
           "#B6E880",
           "#FF97FF",
           "#FECB52"
          ],
          "font": {
           "color": "#2a3f5f"
          },
          "geo": {
           "bgcolor": "white",
           "lakecolor": "white",
           "landcolor": "#E5ECF6",
           "showlakes": true,
           "showland": true,
           "subunitcolor": "white"
          },
          "hoverlabel": {
           "align": "left"
          },
          "hovermode": "closest",
          "mapbox": {
           "style": "light"
          },
          "paper_bgcolor": "white",
          "plot_bgcolor": "#E5ECF6",
          "polar": {
           "angularaxis": {
            "gridcolor": "white",
            "linecolor": "white",
            "ticks": ""
           },
           "bgcolor": "#E5ECF6",
           "radialaxis": {
            "gridcolor": "white",
            "linecolor": "white",
            "ticks": ""
           }
          },
          "scene": {
           "xaxis": {
            "backgroundcolor": "#E5ECF6",
            "gridcolor": "white",
            "gridwidth": 2,
            "linecolor": "white",
            "showbackground": true,
            "ticks": "",
            "zerolinecolor": "white"
           },
           "yaxis": {
            "backgroundcolor": "#E5ECF6",
            "gridcolor": "white",
            "gridwidth": 2,
            "linecolor": "white",
            "showbackground": true,
            "ticks": "",
            "zerolinecolor": "white"
           },
           "zaxis": {
            "backgroundcolor": "#E5ECF6",
            "gridcolor": "white",
            "gridwidth": 2,
            "linecolor": "white",
            "showbackground": true,
            "ticks": "",
            "zerolinecolor": "white"
           }
          },
          "shapedefaults": {
           "line": {
            "color": "#2a3f5f"
           }
          },
          "ternary": {
           "aaxis": {
            "gridcolor": "white",
            "linecolor": "white",
            "ticks": ""
           },
           "baxis": {
            "gridcolor": "white",
            "linecolor": "white",
            "ticks": ""
           },
           "bgcolor": "#E5ECF6",
           "caxis": {
            "gridcolor": "white",
            "linecolor": "white",
            "ticks": ""
           }
          },
          "title": {
           "x": 0.05
          },
          "xaxis": {
           "automargin": true,
           "gridcolor": "white",
           "linecolor": "white",
           "ticks": "",
           "title": {
            "standoff": 15
           },
           "zerolinecolor": "white",
           "zerolinewidth": 2
          },
          "yaxis": {
           "automargin": true,
           "gridcolor": "white",
           "linecolor": "white",
           "ticks": "",
           "title": {
            "standoff": 15
           },
           "zerolinecolor": "white",
           "zerolinewidth": 2
          }
         }
        },
        "title": {
         "text": ""
        },
        "width": 800
       }
      }
     },
     "metadata": {},
     "output_type": "display_data"
    }
   ],
   "source": [
    "import plotly.graph_objects as go\n",
    "from plotly.subplots import make_subplots\n",
    "import plotly.express as px\n",
    "from itertools import cycle\n",
    "\n",
    "df_mosm_hosszu_long = df_mosm_hosszu_long.dropna()\n",
    "df_hgb_h_long = df_hgb_h_long.dropna()\n",
    "\n",
    "\n",
    "palette = cycle(px.colors.qualitative.Antique)\n",
    "\n",
    "fig = go.Figure()\n",
    "\n",
    "fig.add_trace(go.Scatter(\n",
    "    x=x_hgb_h, y=y_hgb_h,\n",
    "    name='HGB line', marker_color=next(palette))\n",
    ")\n",
    "fig.add_trace(go.Box(\n",
    "    x=df_hgb_h_long.variable, y=df_hgb_h_long.value,\n",
    "    name='HGB box', marker_color=next(palette))\n",
    ")\n",
    "\n",
    "\n",
    "fig.add_trace(go.Scatter(\n",
    "    x=x_mosm, y=y_mosm,\n",
    "    name='mOsm line', marker_color=next(palette))\n",
    ")\n",
    "fig.add_trace(go.Box(\n",
    "    x=df_mosm_hosszu_long.variable, y=df_mosm_hosszu_long.value,\n",
    "    name='mOsm box', marker_color=next(palette))\n",
    ")\n",
    "\n",
    "fig.update_layout(font_family='Times New Roman', showlegend=True)\n",
    "fig.update_layout(height=600, width=800, title_text=\"\")\n",
    "fig.show()"
   ]
  },
  {
   "cell_type": "code",
   "execution_count": 25,
   "metadata": {},
   "outputs": [
    {
     "data": {
      "application/vnd.plotly.v1+json": {
       "config": {
        "plotlyServerURL": "https://plot.ly"
       },
       "data": [
        {
         "marker": {
          "color": "rgb(133, 92, 117)"
         },
         "name": "HGB line",
         "type": "scatter",
         "x": [
          "Rest",
          "20'",
          "40'",
          "60'",
          "80'",
          "100'",
          "120'",
          "Max",
          "R5'",
          "R30'"
         ],
         "y": [
          0.9260355029585798,
          0.9526627218934913,
          0.9615384615384616,
          0.9674556213017753,
          0.9763313609467457,
          0.9644970414201185,
          0.9763313609467457,
          1,
          0.9585798816568047,
          0.9319526627218936
         ]
        },
        {
         "marker": {
          "color": "rgb(217, 175, 107)"
         },
         "name": "HGB box",
         "type": "box",
         "x": [
          "Rest",
          "Rest",
          "Rest",
          "Rest",
          "Rest",
          "Rest",
          "Rest",
          "Rest",
          "Rest",
          "Rest",
          "Rest",
          "Rest",
          "20'",
          "20'",
          "20'",
          "20'",
          "20'",
          "20'",
          "20'",
          "20'",
          "20'",
          "20'",
          "20'",
          "20'",
          "40'",
          "40'",
          "40'",
          "40'",
          "40'",
          "40'",
          "40'",
          "40'",
          "40'",
          "40'",
          "40'",
          "40'",
          "60'",
          "60'",
          "60'",
          "60'",
          "60'",
          "60'",
          "60'",
          "60'",
          "60'",
          "60'",
          "60'",
          "60'",
          "80'",
          "80'",
          "80'",
          "80'",
          "80'",
          "80'",
          "80'",
          "80'",
          "80'",
          "80'",
          "80'",
          "100'",
          "100'",
          "100'",
          "100'",
          "100'",
          "100'",
          "100'",
          "100'",
          "100'",
          "100'",
          "100'",
          "120'",
          "120'",
          "120'",
          "120'",
          "120'",
          "120'",
          "120'",
          "120'",
          "120'",
          "120'",
          "120'",
          "Max",
          "Max",
          "Max",
          "Max",
          "Max",
          "Max",
          "Max",
          "Max",
          "Max",
          "Max",
          "R5'",
          "R5'",
          "R5'",
          "R5'",
          "R5'",
          "R5'",
          "R5'",
          "R5'",
          "R5'",
          "R5'",
          "R5'",
          "R30'",
          "R30'",
          "R30'",
          "R30'",
          "R30'",
          "R30'",
          "R30'",
          "R30'",
          "R30'",
          "R30'",
          "R30'",
          "R30'"
         ],
         "y": [
          0.9230769230769231,
          0.9289940828402368,
          0.9467455621301776,
          1.0236686390532546,
          0.940828402366864,
          0.8461538461538463,
          0.8816568047337279,
          0.9763313609467457,
          0.9171597633136096,
          0.8994082840236687,
          0.9585798816568047,
          0.9171597633136096,
          0.9349112426035504,
          0.9467455621301776,
          1.0059171597633136,
          1.0059171597633136,
          0.9763313609467457,
          0.8520710059171599,
          0.9053254437869823,
          0.9526627218934913,
          0.9704142011834319,
          0.9349112426035504,
          1,
          0.9526627218934913,
          0.9585798816568047,
          0.9349112426035504,
          0.9644970414201185,
          1.0236686390532546,
          0.9644970414201185,
          0.8579881656804734,
          0.9289940828402368,
          0.9644970414201185,
          0.9704142011834319,
          0.9526627218934913,
          1.0236686390532546,
          0.9585798816568047,
          0.9704142011834319,
          0.893491124260355,
          0.9881656804733728,
          1.017751479289941,
          0.9526627218934913,
          0.8284023668639054,
          0.9644970414201185,
          0.9704142011834319,
          0.9822485207100593,
          0.9349112426035504,
          1.017751479289941,
          0.9467455621301776,
          0.940828402366864,
          1.0059171597633136,
          1.017751479289941,
          0.9467455621301776,
          0.8698224852071006,
          0.9349112426035504,
          0.9822485207100593,
          0.9881656804733728,
          0.9585798816568047,
          1.0414201183431955,
          0.9763313609467457,
          0.940828402366864,
          1.0118343195266273,
          0.7159763313609467,
          0.9644970414201185,
          0.8698224852071006,
          0.9763313609467457,
          0.9940828402366865,
          0.9822485207100593,
          0.9644970414201185,
          1.047337278106509,
          0.9644970414201185,
          0.9289940828402368,
          1.0118343195266273,
          1,
          0.9644970414201185,
          0.8639053254437871,
          0.9763313609467457,
          0.9881656804733728,
          0.9822485207100593,
          0.911242603550296,
          1.0414201183431955,
          0.9467455621301776,
          0.9940828402366865,
          1.0710059171597635,
          1.0532544378698225,
          0.9644970414201185,
          0.8461538461538463,
          1.0059171597633136,
          0.9940828402366865,
          0.9526627218934913,
          1.106508875739645,
          1.0059171597633136,
          0.9585798816568047,
          1.0355029585798818,
          0.9171597633136096,
          0.9644970414201185,
          0.8994082840236687,
          0.9763313609467457,
          0.9289940828402368,
          1,
          0.9349112426035504,
          1.0118343195266273,
          0.9467455621301776,
          0.8757396449704143,
          0.9230769230769231,
          0.9763313609467457,
          0.9526627218934913,
          0.9171597633136096,
          0.8875739644970415,
          0.911242603550296,
          0.940828402366864,
          0.940828402366864,
          0.9585798816568047,
          1.0059171597633136,
          0.9171597633136096
         ]
        },
        {
         "marker": {
          "color": "rgb(175, 100, 88)"
         },
         "name": "mOsm line",
         "type": "scatter",
         "x": [
          "Rest",
          "20'",
          "40'",
          "60'",
          "80'",
          "100'",
          "120'",
          "Max",
          "R5'",
          "R30'"
         ],
         "y": [
          0.9501959503592423,
          0.961463096015676,
          0.9653821032005226,
          0.9688112344872631,
          0.9715871979098629,
          0.9745264532984976,
          0.9839973873285435,
          1,
          0.9918354016982365,
          0.9737099934683213
         ]
        },
        {
         "marker": {
          "color": "rgb(115, 111, 76)"
         },
         "name": "mOsm box",
         "type": "box",
         "x": [
          "Rest",
          "Rest",
          "Rest",
          "Rest",
          "Rest",
          "Rest",
          "Rest",
          "Rest",
          "Rest",
          "Rest",
          "Rest",
          "Rest",
          "20'",
          "20'",
          "20'",
          "20'",
          "20'",
          "20'",
          "20'",
          "20'",
          "20'",
          "20'",
          "20'",
          "20'",
          "40'",
          "40'",
          "40'",
          "40'",
          "40'",
          "40'",
          "40'",
          "40'",
          "40'",
          "40'",
          "40'",
          "40'",
          "60'",
          "60'",
          "60'",
          "60'",
          "60'",
          "60'",
          "60'",
          "60'",
          "60'",
          "60'",
          "60'",
          "60'",
          "80'",
          "80'",
          "80'",
          "80'",
          "80'",
          "80'",
          "80'",
          "80'",
          "80'",
          "80'",
          "80'",
          "100'",
          "100'",
          "100'",
          "100'",
          "100'",
          "100'",
          "100'",
          "100'",
          "100'",
          "100'",
          "100'",
          "120'",
          "120'",
          "120'",
          "120'",
          "120'",
          "120'",
          "120'",
          "120'",
          "120'",
          "120'",
          "120'",
          "Max",
          "Max",
          "Max",
          "Max",
          "Max",
          "Max",
          "Max",
          "Max",
          "Max",
          "Max",
          "R5'",
          "R5'",
          "R5'",
          "R5'",
          "R5'",
          "R5'",
          "R5'",
          "R5'",
          "R5'",
          "R5'",
          "R5'",
          "R30'",
          "R30'",
          "R30'",
          "R30'",
          "R30'",
          "R30'",
          "R30'",
          "R30'",
          "R30'",
          "R30'",
          "R30'",
          "R30'"
         ],
         "y": [
          0.9369693011103853,
          0.9516655780535598,
          0.9431743958197257,
          0.9474199869366429,
          0.941541476159373,
          0.948726322664925,
          0.9617896799477466,
          0.9516655780535598,
          0.9689745264532985,
          0.9751796211626389,
          0.9591770084911823,
          0.948726322664925,
          0.9595035924232529,
          0.9601567602873939,
          0.9559111691704768,
          0.9683213585891575,
          0.9549314173742651,
          0.9630960156760286,
          0.9732201175702155,
          0.9578706727629002,
          0.9627694317439582,
          0.9676681907250164,
          0.9715871979098629,
          0.9581972566949706,
          0.9627694317439582,
          0.9653821032005226,
          0.9653821032005226,
          0.977139124755062,
          0.9559111691704768,
          0.9611365120836055,
          0.972893533638145,
          0.9552580013063358,
          0.9732201175702155,
          0.9660352710646637,
          0.9748530372305683,
          0.9627694317439582,
          0.9683213585891575,
          0.9689745264532985,
          0.9670150228608754,
          0.9706074461136512,
          0.9627694317439582,
          0.9719137818419334,
          0.9911822338340954,
          0.9581972566949706,
          0.9686479425212281,
          0.9738732854343566,
          0.9741998693664272,
          0.9555845852384064,
          0.9712606139777923,
          0.9696276943174396,
          0.9715871979098629,
          0.9676681907250164,
          0.9676681907250164,
          0.9859568909209666,
          0.9591770084911823,
          0.976485956890921,
          0.9794252122795558,
          0.9732201175702155,
          0.9715871979098629,
          0.9735467015022862,
          0.97583278902678,
          0.9696276943174396,
          0.9702808621815808,
          0.9738732854343566,
          0.9902024820378837,
          0.9591770084911823,
          0.9784454604833444,
          0.9856303069888962,
          0.9781188765512737,
          0.9745264532984976,
          0.9781188765512737,
          0.9797517962116264,
          0.9888961463096017,
          0.9849771391247552,
          0.9748530372305683,
          0.9931417374265187,
          0.9670150228608754,
          0.9839973873285435,
          1,
          0.984323971260614,
          0.9797517962116264,
          0.9934683213585892,
          1.0019595035924234,
          1.0039190071848465,
          0.9849771391247552,
          0.9941214892227302,
          1.0231874591770085,
          1.0009797517962116,
          1.0192684519921622,
          0.9990202482037883,
          0.9908556499020248,
          0.9797517962116264,
          0.984323971260614,
          0.9973873285434356,
          0.9817112998040497,
          1.0022860875244937,
          1.0026126714565644,
          0.9653821032005226,
          0.9918354016982365,
          0.9970607446113652,
          1.006531678641411,
          0.9794252122795558,
          0.9663618549967341,
          0.9657086871325931,
          0.9715871979098629,
          0.97583278902678,
          0.9725669497060745,
          0.9941214892227302,
          0.9924885695623775,
          0.964402351404311,
          0.9944480731548008,
          0.9748530372305683,
          0.9830176355323318,
          0.9696276943174396
         ]
        }
       ],
       "layout": {
        "font": {
         "family": "Times New Roman"
        },
        "height": 600,
        "showlegend": true,
        "template": {
         "data": {
          "bar": [
           {
            "error_x": {
             "color": "#2a3f5f"
            },
            "error_y": {
             "color": "#2a3f5f"
            },
            "marker": {
             "line": {
              "color": "#E5ECF6",
              "width": 0.5
             },
             "pattern": {
              "fillmode": "overlay",
              "size": 10,
              "solidity": 0.2
             }
            },
            "type": "bar"
           }
          ],
          "barpolar": [
           {
            "marker": {
             "line": {
              "color": "#E5ECF6",
              "width": 0.5
             },
             "pattern": {
              "fillmode": "overlay",
              "size": 10,
              "solidity": 0.2
             }
            },
            "type": "barpolar"
           }
          ],
          "carpet": [
           {
            "aaxis": {
             "endlinecolor": "#2a3f5f",
             "gridcolor": "white",
             "linecolor": "white",
             "minorgridcolor": "white",
             "startlinecolor": "#2a3f5f"
            },
            "baxis": {
             "endlinecolor": "#2a3f5f",
             "gridcolor": "white",
             "linecolor": "white",
             "minorgridcolor": "white",
             "startlinecolor": "#2a3f5f"
            },
            "type": "carpet"
           }
          ],
          "choropleth": [
           {
            "colorbar": {
             "outlinewidth": 0,
             "ticks": ""
            },
            "type": "choropleth"
           }
          ],
          "contour": [
           {
            "colorbar": {
             "outlinewidth": 0,
             "ticks": ""
            },
            "colorscale": [
             [
              0,
              "#0d0887"
             ],
             [
              0.1111111111111111,
              "#46039f"
             ],
             [
              0.2222222222222222,
              "#7201a8"
             ],
             [
              0.3333333333333333,
              "#9c179e"
             ],
             [
              0.4444444444444444,
              "#bd3786"
             ],
             [
              0.5555555555555556,
              "#d8576b"
             ],
             [
              0.6666666666666666,
              "#ed7953"
             ],
             [
              0.7777777777777778,
              "#fb9f3a"
             ],
             [
              0.8888888888888888,
              "#fdca26"
             ],
             [
              1,
              "#f0f921"
             ]
            ],
            "type": "contour"
           }
          ],
          "contourcarpet": [
           {
            "colorbar": {
             "outlinewidth": 0,
             "ticks": ""
            },
            "type": "contourcarpet"
           }
          ],
          "heatmap": [
           {
            "colorbar": {
             "outlinewidth": 0,
             "ticks": ""
            },
            "colorscale": [
             [
              0,
              "#0d0887"
             ],
             [
              0.1111111111111111,
              "#46039f"
             ],
             [
              0.2222222222222222,
              "#7201a8"
             ],
             [
              0.3333333333333333,
              "#9c179e"
             ],
             [
              0.4444444444444444,
              "#bd3786"
             ],
             [
              0.5555555555555556,
              "#d8576b"
             ],
             [
              0.6666666666666666,
              "#ed7953"
             ],
             [
              0.7777777777777778,
              "#fb9f3a"
             ],
             [
              0.8888888888888888,
              "#fdca26"
             ],
             [
              1,
              "#f0f921"
             ]
            ],
            "type": "heatmap"
           }
          ],
          "heatmapgl": [
           {
            "colorbar": {
             "outlinewidth": 0,
             "ticks": ""
            },
            "colorscale": [
             [
              0,
              "#0d0887"
             ],
             [
              0.1111111111111111,
              "#46039f"
             ],
             [
              0.2222222222222222,
              "#7201a8"
             ],
             [
              0.3333333333333333,
              "#9c179e"
             ],
             [
              0.4444444444444444,
              "#bd3786"
             ],
             [
              0.5555555555555556,
              "#d8576b"
             ],
             [
              0.6666666666666666,
              "#ed7953"
             ],
             [
              0.7777777777777778,
              "#fb9f3a"
             ],
             [
              0.8888888888888888,
              "#fdca26"
             ],
             [
              1,
              "#f0f921"
             ]
            ],
            "type": "heatmapgl"
           }
          ],
          "histogram": [
           {
            "marker": {
             "pattern": {
              "fillmode": "overlay",
              "size": 10,
              "solidity": 0.2
             }
            },
            "type": "histogram"
           }
          ],
          "histogram2d": [
           {
            "colorbar": {
             "outlinewidth": 0,
             "ticks": ""
            },
            "colorscale": [
             [
              0,
              "#0d0887"
             ],
             [
              0.1111111111111111,
              "#46039f"
             ],
             [
              0.2222222222222222,
              "#7201a8"
             ],
             [
              0.3333333333333333,
              "#9c179e"
             ],
             [
              0.4444444444444444,
              "#bd3786"
             ],
             [
              0.5555555555555556,
              "#d8576b"
             ],
             [
              0.6666666666666666,
              "#ed7953"
             ],
             [
              0.7777777777777778,
              "#fb9f3a"
             ],
             [
              0.8888888888888888,
              "#fdca26"
             ],
             [
              1,
              "#f0f921"
             ]
            ],
            "type": "histogram2d"
           }
          ],
          "histogram2dcontour": [
           {
            "colorbar": {
             "outlinewidth": 0,
             "ticks": ""
            },
            "colorscale": [
             [
              0,
              "#0d0887"
             ],
             [
              0.1111111111111111,
              "#46039f"
             ],
             [
              0.2222222222222222,
              "#7201a8"
             ],
             [
              0.3333333333333333,
              "#9c179e"
             ],
             [
              0.4444444444444444,
              "#bd3786"
             ],
             [
              0.5555555555555556,
              "#d8576b"
             ],
             [
              0.6666666666666666,
              "#ed7953"
             ],
             [
              0.7777777777777778,
              "#fb9f3a"
             ],
             [
              0.8888888888888888,
              "#fdca26"
             ],
             [
              1,
              "#f0f921"
             ]
            ],
            "type": "histogram2dcontour"
           }
          ],
          "mesh3d": [
           {
            "colorbar": {
             "outlinewidth": 0,
             "ticks": ""
            },
            "type": "mesh3d"
           }
          ],
          "parcoords": [
           {
            "line": {
             "colorbar": {
              "outlinewidth": 0,
              "ticks": ""
             }
            },
            "type": "parcoords"
           }
          ],
          "pie": [
           {
            "automargin": true,
            "type": "pie"
           }
          ],
          "scatter": [
           {
            "marker": {
             "colorbar": {
              "outlinewidth": 0,
              "ticks": ""
             }
            },
            "type": "scatter"
           }
          ],
          "scatter3d": [
           {
            "line": {
             "colorbar": {
              "outlinewidth": 0,
              "ticks": ""
             }
            },
            "marker": {
             "colorbar": {
              "outlinewidth": 0,
              "ticks": ""
             }
            },
            "type": "scatter3d"
           }
          ],
          "scattercarpet": [
           {
            "marker": {
             "colorbar": {
              "outlinewidth": 0,
              "ticks": ""
             }
            },
            "type": "scattercarpet"
           }
          ],
          "scattergeo": [
           {
            "marker": {
             "colorbar": {
              "outlinewidth": 0,
              "ticks": ""
             }
            },
            "type": "scattergeo"
           }
          ],
          "scattergl": [
           {
            "marker": {
             "colorbar": {
              "outlinewidth": 0,
              "ticks": ""
             }
            },
            "type": "scattergl"
           }
          ],
          "scattermapbox": [
           {
            "marker": {
             "colorbar": {
              "outlinewidth": 0,
              "ticks": ""
             }
            },
            "type": "scattermapbox"
           }
          ],
          "scatterpolar": [
           {
            "marker": {
             "colorbar": {
              "outlinewidth": 0,
              "ticks": ""
             }
            },
            "type": "scatterpolar"
           }
          ],
          "scatterpolargl": [
           {
            "marker": {
             "colorbar": {
              "outlinewidth": 0,
              "ticks": ""
             }
            },
            "type": "scatterpolargl"
           }
          ],
          "scatterternary": [
           {
            "marker": {
             "colorbar": {
              "outlinewidth": 0,
              "ticks": ""
             }
            },
            "type": "scatterternary"
           }
          ],
          "surface": [
           {
            "colorbar": {
             "outlinewidth": 0,
             "ticks": ""
            },
            "colorscale": [
             [
              0,
              "#0d0887"
             ],
             [
              0.1111111111111111,
              "#46039f"
             ],
             [
              0.2222222222222222,
              "#7201a8"
             ],
             [
              0.3333333333333333,
              "#9c179e"
             ],
             [
              0.4444444444444444,
              "#bd3786"
             ],
             [
              0.5555555555555556,
              "#d8576b"
             ],
             [
              0.6666666666666666,
              "#ed7953"
             ],
             [
              0.7777777777777778,
              "#fb9f3a"
             ],
             [
              0.8888888888888888,
              "#fdca26"
             ],
             [
              1,
              "#f0f921"
             ]
            ],
            "type": "surface"
           }
          ],
          "table": [
           {
            "cells": {
             "fill": {
              "color": "#EBF0F8"
             },
             "line": {
              "color": "white"
             }
            },
            "header": {
             "fill": {
              "color": "#C8D4E3"
             },
             "line": {
              "color": "white"
             }
            },
            "type": "table"
           }
          ]
         },
         "layout": {
          "annotationdefaults": {
           "arrowcolor": "#2a3f5f",
           "arrowhead": 0,
           "arrowwidth": 1
          },
          "autotypenumbers": "strict",
          "coloraxis": {
           "colorbar": {
            "outlinewidth": 0,
            "ticks": ""
           }
          },
          "colorscale": {
           "diverging": [
            [
             0,
             "#8e0152"
            ],
            [
             0.1,
             "#c51b7d"
            ],
            [
             0.2,
             "#de77ae"
            ],
            [
             0.3,
             "#f1b6da"
            ],
            [
             0.4,
             "#fde0ef"
            ],
            [
             0.5,
             "#f7f7f7"
            ],
            [
             0.6,
             "#e6f5d0"
            ],
            [
             0.7,
             "#b8e186"
            ],
            [
             0.8,
             "#7fbc41"
            ],
            [
             0.9,
             "#4d9221"
            ],
            [
             1,
             "#276419"
            ]
           ],
           "sequential": [
            [
             0,
             "#0d0887"
            ],
            [
             0.1111111111111111,
             "#46039f"
            ],
            [
             0.2222222222222222,
             "#7201a8"
            ],
            [
             0.3333333333333333,
             "#9c179e"
            ],
            [
             0.4444444444444444,
             "#bd3786"
            ],
            [
             0.5555555555555556,
             "#d8576b"
            ],
            [
             0.6666666666666666,
             "#ed7953"
            ],
            [
             0.7777777777777778,
             "#fb9f3a"
            ],
            [
             0.8888888888888888,
             "#fdca26"
            ],
            [
             1,
             "#f0f921"
            ]
           ],
           "sequentialminus": [
            [
             0,
             "#0d0887"
            ],
            [
             0.1111111111111111,
             "#46039f"
            ],
            [
             0.2222222222222222,
             "#7201a8"
            ],
            [
             0.3333333333333333,
             "#9c179e"
            ],
            [
             0.4444444444444444,
             "#bd3786"
            ],
            [
             0.5555555555555556,
             "#d8576b"
            ],
            [
             0.6666666666666666,
             "#ed7953"
            ],
            [
             0.7777777777777778,
             "#fb9f3a"
            ],
            [
             0.8888888888888888,
             "#fdca26"
            ],
            [
             1,
             "#f0f921"
            ]
           ]
          },
          "colorway": [
           "#636efa",
           "#EF553B",
           "#00cc96",
           "#ab63fa",
           "#FFA15A",
           "#19d3f3",
           "#FF6692",
           "#B6E880",
           "#FF97FF",
           "#FECB52"
          ],
          "font": {
           "color": "#2a3f5f"
          },
          "geo": {
           "bgcolor": "white",
           "lakecolor": "white",
           "landcolor": "#E5ECF6",
           "showlakes": true,
           "showland": true,
           "subunitcolor": "white"
          },
          "hoverlabel": {
           "align": "left"
          },
          "hovermode": "closest",
          "mapbox": {
           "style": "light"
          },
          "paper_bgcolor": "white",
          "plot_bgcolor": "#E5ECF6",
          "polar": {
           "angularaxis": {
            "gridcolor": "white",
            "linecolor": "white",
            "ticks": ""
           },
           "bgcolor": "#E5ECF6",
           "radialaxis": {
            "gridcolor": "white",
            "linecolor": "white",
            "ticks": ""
           }
          },
          "scene": {
           "xaxis": {
            "backgroundcolor": "#E5ECF6",
            "gridcolor": "white",
            "gridwidth": 2,
            "linecolor": "white",
            "showbackground": true,
            "ticks": "",
            "zerolinecolor": "white"
           },
           "yaxis": {
            "backgroundcolor": "#E5ECF6",
            "gridcolor": "white",
            "gridwidth": 2,
            "linecolor": "white",
            "showbackground": true,
            "ticks": "",
            "zerolinecolor": "white"
           },
           "zaxis": {
            "backgroundcolor": "#E5ECF6",
            "gridcolor": "white",
            "gridwidth": 2,
            "linecolor": "white",
            "showbackground": true,
            "ticks": "",
            "zerolinecolor": "white"
           }
          },
          "shapedefaults": {
           "line": {
            "color": "#2a3f5f"
           }
          },
          "ternary": {
           "aaxis": {
            "gridcolor": "white",
            "linecolor": "white",
            "ticks": ""
           },
           "baxis": {
            "gridcolor": "white",
            "linecolor": "white",
            "ticks": ""
           },
           "bgcolor": "#E5ECF6",
           "caxis": {
            "gridcolor": "white",
            "linecolor": "white",
            "ticks": ""
           }
          },
          "title": {
           "x": 0.05
          },
          "xaxis": {
           "automargin": true,
           "gridcolor": "white",
           "linecolor": "white",
           "ticks": "",
           "title": {
            "standoff": 15
           },
           "zerolinecolor": "white",
           "zerolinewidth": 2
          },
          "yaxis": {
           "automargin": true,
           "gridcolor": "white",
           "linecolor": "white",
           "ticks": "",
           "title": {
            "standoff": 15
           },
           "zerolinecolor": "white",
           "zerolinewidth": 2
          }
         }
        },
        "title": {
         "text": ""
        },
        "width": 800
       }
      }
     },
     "metadata": {},
     "output_type": "display_data"
    }
   ],
   "source": [
    "import plotly.graph_objects as go\n",
    "from plotly.subplots import make_subplots\n",
    "import plotly.express as px\n",
    "from itertools import cycle\n",
    "\n",
    "df_mosm_hosszu_long = df_mosm_hosszu_long.dropna()\n",
    "df_hgb_h_long = df_hgb_h_long.dropna()\n",
    "\n",
    "df_mosm_hosszu_long.variable = df_mosm_hosszu_long.variable.replace({'Nyugalmi (T. előtt)':\"Rest\", 'VM':\"Max\"}) \n",
    "df_hgb_h_long.variable = df_hgb_h_long.variable.replace({'Nyugalmi (T. előtt)':\"Rest\", 'VM':\"Max\"})\n",
    "\n",
    "x_hgb_h = df_hgb_h_long.variable.unique()\n",
    "x_mosm = df_hgb_h_long.variable.unique()\n",
    "\n",
    "palette = cycle(px.colors.qualitative.Antique)\n",
    "\n",
    "hgb_max = np.max(y_hgb_h)\n",
    "mosm_max = np.max(y_mosm)\n",
    "\n",
    "fig = go.Figure()\n",
    "\n",
    "fig.add_trace(go.Scatter(\n",
    "    x=x_hgb_h, y=y_hgb_h/hgb_max,\n",
    "    name='HGB line', marker_color=next(palette))\n",
    ")\n",
    "fig.add_trace(go.Box(\n",
    "    x=df_hgb_h_long.variable, y=df_hgb_h_long.value/hgb_max,\n",
    "    name='HGB box', marker_color=next(palette))\n",
    ")\n",
    "\n",
    "\n",
    "fig.add_trace(go.Scatter(\n",
    "    x=x_mosm, y=y_mosm/mosm_max,\n",
    "    name='mOsm line', marker_color=next(palette))\n",
    ")\n",
    "fig.add_trace(go.Box(\n",
    "    x=df_mosm_hosszu_long.variable, y=df_mosm_hosszu_long.value/mosm_max,\n",
    "    name='mOsm box', marker_color=next(palette))\n",
    ")\n",
    "\n",
    "fig.update_layout(font_family='Times New Roman', showlegend=True)\n",
    "fig.update_layout(height=600, width=800, title_text=\"\")\n",
    "fig.show()"
   ]
  },
  {
   "cell_type": "code",
   "execution_count": 22,
   "metadata": {},
   "outputs": [
    {
     "data": {
      "text/plain": [
       "array(['Nyugalmi (T. előtt)', \"20'\", \"40'\", \"60'\", \"80'\", \"100'\", \"120'\",\n",
       "       'VM', \"R5'\", \"R30'\"], dtype=object)"
      ]
     },
     "execution_count": 22,
     "metadata": {},
     "output_type": "execute_result"
    }
   ],
   "source": [
    "df_hgb_h_long.variable.unique()\n"
   ]
  }
 ],
 "metadata": {
  "interpreter": {
   "hash": "b3ba2566441a7c06988d0923437866b63cedc61552a5af99d1f4fb67d367b25f"
  },
  "kernelspec": {
   "display_name": "Python 3.7.3 64-bit ('base': conda)",
   "name": "python3"
  },
  "language_info": {
   "codemirror_mode": {
    "name": "ipython",
    "version": 3
   },
   "file_extension": ".py",
   "mimetype": "text/x-python",
   "name": "python",
   "nbconvert_exporter": "python",
   "pygments_lexer": "ipython3",
   "version": "3.7.3"
  },
  "orig_nbformat": 4
 },
 "nbformat": 4,
 "nbformat_minor": 2
}
